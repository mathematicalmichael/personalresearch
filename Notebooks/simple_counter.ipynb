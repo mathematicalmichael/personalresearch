{
 "cells": [
  {
   "cell_type": "markdown",
   "metadata": {},
   "source": [
    "Test of STARS module, noise now put in function. Helper functions to get $\\mu_*$ and $h$ added."
   ]
  },
  {
   "cell_type": "code",
   "execution_count": 1,
   "metadata": {
    "collapsed": true
   },
   "outputs": [],
   "source": [
    "import numpy as np\n",
    "import dfo"
   ]
  },
  {
   "cell_type": "code",
   "execution_count": 2,
   "metadata": {},
   "outputs": [
    {
     "name": "stdout",
     "output_type": "stream",
     "text": [
      "[10000.00057302]\n"
     ]
    }
   ],
   "source": [
    "def tfun(x,var=1E-4):\n",
    "    return np.dot(x[0:2],x[0:2])+1E-2*np.random.randn(1)\n",
    "\n",
    "dim=10\n",
    "xinit=200*np.random.rand(dim)-100\n",
    "#my nasty initial condition, but all others will plateau\n",
    "xinit[0]=100\n",
    "xinit[1]=.1\n",
    "##setup\n",
    "print(tfun(xinit))"
   ]
  },
  {
   "cell_type": "code",
   "execution_count": 3,
   "metadata": {},
   "outputs": [],
   "source": [
    "mu_star=dfo.get_mu_star(1E-4,2,10)\n",
    "h=dfo.get_h(2,10)\n",
    "\n",
    "x=np.copy(xinit)\n",
    "maxit=75\n",
    "xhist=np.copy(x)\n",
    "fhist=tfun(x)\n",
    "for i in range(maxit):\n",
    "    [x,f,temp,temp2]=dfo.STARS(x,tfun,mu_star,h)\n",
    "    xhist=np.vstack((xhist,x))\n",
    "    fhist=np.hstack((fhist,f))\n",
    "    \n",
    "x2=np.copy(xinit)\n",
    "x2hist=np.copy(x2)\n",
    "f2hist=tfun(x2)\n",
    "mu_star=dfo.get_mu_star(1E-4,2,1)\n",
    "h=dfo.get_h(2,1)\n",
    "u=np.zeros(dim)\n",
    "u[0:2]=1\n",
    "u*=1/np.sqrt(2)\n",
    "for i in range(maxit):\n",
    "    [x2,f,temp,temp2]=dfo.STARS_RV(x2,tfun,u,mu_star,h)\n",
    "    x2hist=np.vstack((x2hist,x2))\n",
    "    f2hist=np.hstack((f2hist,f))"
   ]
  },
  {
   "cell_type": "code",
   "execution_count": 4,
   "metadata": {},
   "outputs": [
    {
     "name": "stdout",
     "output_type": "stream",
     "text": [
      "[[1. 0. 0. 0. 0. 0. 0. 0. 0. 0.]\n",
      " [0. 1. 0. 0. 0. 0. 0. 0. 0. 0.]]\n",
      "[0.28164921 0.84631355 0.         0.         0.         0.\n",
      " 0.         0.         0.         0.        ]\n",
      "[0.81519935 0.27235738 0.         0.         0.         0.\n",
      " 0.         0.         0.         0.        ]\n",
      "[ 0.07916142 -0.64064363  0.          0.          0.          0.\n",
      "  0.          0.          0.          0.        ]\n",
      "[-0.91873528 -1.01563547  0.          0.          0.          0.\n",
      "  0.          0.          0.          0.        ]\n",
      "[-0.43592416  0.83264263  0.          0.          0.          0.\n",
      "  0.          0.          0.          0.        ]\n",
      "[0.12775144 0.61151668 0.         0.         0.         0.\n",
      " 0.         0.         0.         0.        ]\n",
      "[ 1.1855893  -0.56380652  0.          0.          0.          0.\n",
      "  0.          0.          0.          0.        ]\n",
      "[0.14013879 0.09209128 0.         0.         0.         0.\n",
      " 0.         0.         0.         0.        ]\n",
      "[0.02540803 0.4293774  0.         0.         0.         0.\n",
      " 0.         0.         0.         0.        ]\n",
      "[-0.6740973   0.44224092  0.          0.          0.          0.\n",
      "  0.          0.          0.          0.        ]\n",
      "[-1.18401149  0.12633064  0.          0.          0.          0.\n",
      "  0.          0.          0.          0.        ]\n",
      "[ 1.14260366 -0.36790126  0.          0.          0.          0.\n",
      "  0.          0.          0.          0.        ]\n",
      "[ 1.56203162 -0.07571587  0.          0.          0.          0.\n",
      "  0.          0.          0.          0.        ]\n",
      "[0.27630952 0.40909255 0.         0.         0.         0.\n",
      " 0.         0.         0.         0.        ]\n",
      "[-0.29184546  0.4656964   0.          0.          0.          0.\n",
      "  0.          0.          0.          0.        ]\n",
      "[2.39838975 0.16650657 0.         0.         0.         0.\n",
      " 0.         0.         0.         0.        ]\n",
      "[0.29745109 0.49131843 0.         0.         0.         0.\n",
      " 0.         0.         0.         0.        ]\n",
      "[-1.13160728 -1.75672961  0.          0.          0.          0.\n",
      "  0.          0.          0.          0.        ]\n",
      "[-0.61773661 -0.23622931  0.          0.          0.          0.\n",
      "  0.          0.          0.          0.        ]\n",
      "[ 0.33145807 -1.81635001  0.          0.          0.          0.\n",
      "  0.          0.          0.          0.        ]\n",
      "[-0.4476872  -0.54398857  0.          0.          0.          0.\n",
      "  0.          0.          0.          0.        ]\n",
      "[0.22239597 0.45000751 0.         0.         0.         0.\n",
      " 0.         0.         0.         0.        ]\n",
      "[ 0.39259574 -0.26203757  0.          0.          0.          0.\n",
      "  0.          0.          0.          0.        ]\n",
      "[ 0.50759688 -1.65179682  0.          0.          0.          0.\n",
      "  0.          0.          0.          0.        ]\n",
      "[-0.31847316 -0.64918849  0.          0.          0.          0.\n",
      "  0.          0.          0.          0.        ]\n",
      "[ 0.623285   -1.97471618  0.          0.          0.          0.\n",
      "  0.          0.          0.          0.        ]\n",
      "[-0.59533384  0.72400023  0.          0.          0.          0.\n",
      "  0.          0.          0.          0.        ]\n",
      "[ 0.93015769 -0.70116669  0.          0.          0.          0.\n",
      "  0.          0.          0.          0.        ]\n",
      "[-0.49708042 -0.2992523   0.          0.          0.          0.\n",
      "  0.          0.          0.          0.        ]\n",
      "[-0.00111271  0.27939345  0.          0.          0.          0.\n",
      "  0.          0.          0.          0.        ]\n",
      "[-0.48104813  0.37790626  0.          0.          0.          0.\n",
      "  0.          0.          0.          0.        ]\n",
      "[0.85089943 0.59990902 0.         0.         0.         0.\n",
      " 0.         0.         0.         0.        ]\n",
      "[-0.55497233  1.49879184  0.          0.          0.          0.\n",
      "  0.          0.          0.          0.        ]\n",
      "[ 2.22340919 -0.03246814  0.          0.          0.          0.\n",
      "  0.          0.          0.          0.        ]\n",
      "[-0.96107871 -0.25711685  0.          0.          0.          0.\n",
      "  0.          0.          0.          0.        ]\n",
      "[-0.10005557  0.15897942  0.          0.          0.          0.\n",
      "  0.          0.          0.          0.        ]\n",
      "[-0.10429008 -1.0809201   0.          0.          0.          0.\n",
      "  0.          0.          0.          0.        ]\n",
      "[-0.98823907 -0.20034531  0.          0.          0.          0.\n",
      "  0.          0.          0.          0.        ]\n",
      "[-0.32443419 -1.40101941  0.          0.          0.          0.\n",
      "  0.          0.          0.          0.        ]\n",
      "[0.640489   0.25228379 0.         0.         0.         0.\n",
      " 0.         0.         0.         0.        ]\n",
      "[ 1.13379191 -0.38828265  0.          0.          0.          0.\n",
      "  0.          0.          0.          0.        ]\n",
      "[ 0.86681216 -0.67247247  0.          0.          0.          0.\n",
      "  0.          0.          0.          0.        ]\n",
      "[-0.62920634  1.24343384  0.          0.          0.          0.\n",
      "  0.          0.          0.          0.        ]\n",
      "[-0.1532051  -0.21436819  0.          0.          0.          0.\n",
      "  0.          0.          0.          0.        ]\n",
      "[-1.66524884 -0.26952813  0.          0.          0.          0.\n",
      "  0.          0.          0.          0.        ]\n",
      "[-0.7099299   0.52529151  0.          0.          0.          0.\n",
      "  0.          0.          0.          0.        ]\n",
      "[1.40261435 0.28960511 0.         0.         0.         0.\n",
      " 0.         0.         0.         0.        ]\n",
      "[0.15113826 0.02538086 0.         0.         0.         0.\n",
      " 0.         0.         0.         0.        ]\n",
      "[-0.24425343 -2.13578345  0.          0.          0.          0.\n",
      "  0.          0.          0.          0.        ]\n",
      "[0.30999451 0.71369642 0.         0.         0.         0.\n",
      " 0.         0.         0.         0.        ]\n",
      "[0.33926788 0.03115048 0.         0.         0.         0.\n",
      " 0.         0.         0.         0.        ]\n",
      "[ 0.65239517 -0.16031114  0.          0.          0.          0.\n",
      "  0.          0.          0.          0.        ]\n",
      "[-0.35282545  1.86914814  0.          0.          0.          0.\n",
      "  0.          0.          0.          0.        ]\n",
      "[-0.34478634 -2.03204729  0.          0.          0.          0.\n",
      "  0.          0.          0.          0.        ]\n",
      "[-1.39964539  1.91233806  0.          0.          0.          0.\n",
      "  0.          0.          0.          0.        ]\n",
      "[0.47210252 0.21722824 0.         0.         0.         0.\n",
      " 0.         0.         0.         0.        ]\n",
      "[-1.06821697 -0.02652466  0.          0.          0.          0.\n",
      "  0.          0.          0.          0.        ]\n",
      "[-0.33452207 -0.31369726  0.          0.          0.          0.\n",
      "  0.          0.          0.          0.        ]\n",
      "[-0.71019947  1.07181156  0.          0.          0.          0.\n",
      "  0.          0.          0.          0.        ]\n",
      "[0.12694332 0.11347958 0.         0.         0.         0.\n",
      " 0.         0.         0.         0.        ]\n",
      "[-2.2292644   1.97385567  0.          0.          0.          0.\n",
      "  0.          0.          0.          0.        ]\n",
      "[0.66747081 1.10937198 0.         0.         0.         0.\n",
      " 0.         0.         0.         0.        ]\n",
      "[-0.99949306  0.45874788  0.          0.          0.          0.\n",
      "  0.          0.          0.          0.        ]\n",
      "[0.69052869 0.75700119 0.         0.         0.         0.\n",
      " 0.         0.         0.         0.        ]\n",
      "[ 1.05018987 -1.27622034  0.          0.          0.          0.\n",
      "  0.          0.          0.          0.        ]\n",
      "[-1.30824134  0.14090844  0.          0.          0.          0.\n",
      "  0.          0.          0.          0.        ]\n",
      "[-0.69636408  0.68509405  0.          0.          0.          0.\n",
      "  0.          0.          0.          0.        ]\n",
      "[-0.91963636 -1.78728675  0.          0.          0.          0.\n",
      "  0.          0.          0.          0.        ]\n",
      "[ 0.65293829 -0.35385284  0.          0.          0.          0.\n",
      "  0.          0.          0.          0.        ]\n",
      "[-0.24307784  0.02121703  0.          0.          0.          0.\n",
      "  0.          0.          0.          0.        ]\n",
      "[1.69069129 1.98279795 0.         0.         0.         0.\n",
      " 0.         0.         0.         0.        ]\n",
      "[-1.86406639  0.06105377  0.          0.          0.          0.\n",
      "  0.          0.          0.          0.        ]\n",
      "[-1.21322644  1.18505952  0.          0.          0.          0.\n",
      "  0.          0.          0.          0.        ]\n",
      "[0.50074037 2.11675185 0.         0.         0.         0.\n",
      " 0.         0.         0.         0.        ]\n",
      "[2.28941552 0.86151998 0.         0.         0.         0.\n",
      " 0.         0.         0.         0.        ]\n"
     ]
    }
   ],
   "source": [
    "mu_star=dfo.get_mu_star(1E-4,2,2)\n",
    "h=dfo.get_h(2,2)\n",
    "x3=np.copy(xinit)\n",
    "maxit=75\n",
    "xhist3=np.copy(x3)\n",
    "fhist3=tfun(x3)\n",
    "active=np.eye(dim)\n",
    "active=active[0:2,:]\n",
    "print(active)\n",
    "for i in range(maxit):\n",
    "    [x3,f,temp,temp2]=dfo.STARS(x3,tfun,mu_star,h,active=active)\n",
    "    xhist3=np.vstack((xhist3,x3))\n",
    "    fhist3=np.hstack((fhist3,f))"
   ]
  },
  {
   "cell_type": "code",
   "execution_count": 5,
   "metadata": {},
   "outputs": [
    {
     "data": {
      "image/png": "[encoded data removed]",
      "text/plain": [
       "<matplotlib.figure.Figure at 0x10dd977b8>"
      ]
     },
     "metadata": {},
     "output_type": "display_data"
    },
    {
     "name": "stdout",
     "output_type": "stream",
     "text": [
      "[10000.01371877  8434.165748    8430.17265934  8043.72051179\n",
      "  7904.4343769   7775.65515494  7200.40791194  6972.53205095\n",
      "  6930.26062673  6230.25661514  6086.30348469  6049.87002786\n",
      "  6047.4958436   5487.94549884  5441.88845097  5438.91333237\n",
      "  5418.05734576  5402.5125608   5396.78322121  5357.30120976\n",
      "  5357.26318537  5352.82115635  5301.78924463  5270.51877739\n",
      "  5205.44465866  5195.78975639  5183.45921684  5131.78778805\n",
      "  5128.84307618  5128.19613438  5117.48200936  5109.1566311\n",
      "  5107.51426588  5105.45844148  5104.14565075  5090.57511962\n",
      "  5084.04757251  5081.91912622  5073.6362302   5073.5954806\n",
      "  5031.38906516  5020.11103484  5019.85225483  5016.71186078\n",
      "  5000.41402175  4997.31798757  4997.04801423  4995.1351745\n",
      "  4995.03630858  4994.9677935   4994.93323171  4994.90415083\n",
      "  4994.87363542  4994.38493234  4993.68348263  4993.62455363\n",
      "  4993.54777319  4992.7223535   4992.55223462  4992.47830975\n",
      "  4992.4111758   4992.1877734   4992.20021279  4991.91876875\n",
      "  4990.97545747  4990.9752925   4990.96936291  4990.85873462\n",
      "  4990.50679676  4990.51173129  4990.51364325  4990.5079172\n",
      "  4990.38649815  4990.36395829  4990.32898521  4990.32661171]\n"
     ]
    }
   ],
   "source": [
    "import matplotlib.pyplot as plt\n",
    "plt.semilogy(fhist,label='stars_full')\n",
    "plt.semilogy(f2hist,label='stars_onedir')\n",
    "plt.semilogy(fhist3,label='stars_active')\n",
    "plt.legend()\n",
    "plt.show()\n",
    "print(f2hist)"
   ]
  },
  {
   "cell_type": "code",
   "execution_count": 8,
   "metadata": {},
   "outputs": [
    {
     "name": "stdout",
     "output_type": "stream",
     "text": [
      "[100.           0.1        -37.82848192  42.66999523 -82.00095452\n",
      " -58.39855317  45.96776124  50.99999423 -43.66089993  40.68689987]\n",
      "[ 91.44791988  -8.45208012 -37.82848192  42.66999523 -82.00095452\n",
      " -58.39855317  45.96776124  50.99999423 -43.66089993  40.68689987]\n",
      "[ 50.35078952 -49.54921048 -37.82848192  42.66999523 -82.00095452\n",
      " -58.39855317  45.96776124  50.99999423 -43.66089993  40.68689987]\n"
     ]
    },
    {
     "data": {
      "image/png": "[encoded data removed]",
      "text/plain": [
       "<matplotlib.figure.Figure at 0x11540fc50>"
      ]
     },
     "metadata": {},
     "output_type": "display_data"
    }
   ],
   "source": [
    "#plt.scatter(xhist[0],xhist[1])\n",
    "plt.scatter(x2hist[:,0],x2hist[:,1])\n",
    "plt.scatter(xhist3[:,0],xhist3[:,1])\n",
    "\n",
    "print(x2hist[0])\n",
    "print(x2hist[1])\n",
    "print(x2hist[-1])\n",
    "\n",
    "plt.show()\n",
    "\n",
    "\n"
   ]
  },
  {
   "cell_type": "code",
   "execution_count": null,
   "metadata": {
    "collapsed": true
   },
   "outputs": [],
   "source": []
  },
  {
   "cell_type": "code",
   "execution_count": null,
   "metadata": {
    "collapsed": true
   },
   "outputs": [],
   "source": []
  },
  {
   "cell_type": "code",
   "execution_count": null,
   "metadata": {
    "collapsed": true
   },
   "outputs": [],
   "source": []
  }
 ],
 "metadata": {
  "kernelspec": {
   "display_name": "Python [conda root]",
   "language": "python",
   "name": "conda-root-py"
  },
  "language_info": {
   "codemirror_mode": {
    "name": "ipython",
    "version": 3
   },
   "file_extension": ".py",
   "mimetype": "text/x-python",
   "name": "python",
   "nbconvert_exporter": "python",
   "pygments_lexer": "ipython3",
   "version": "3.6.8"
  }
 },
 "nbformat": 4,
 "nbformat_minor": 2
}
