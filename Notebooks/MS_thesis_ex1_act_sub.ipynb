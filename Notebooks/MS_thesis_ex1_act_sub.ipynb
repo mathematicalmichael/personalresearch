{
 "cells": [
  {
   "cell_type": "markdown",
   "metadata": {},
   "source": [
    "## MS Example 1: Multiplicative Noise"
   ]
  },
  {
   "cell_type": "code",
   "execution_count": 1,
   "metadata": {
    "collapsed": true
   },
   "outputs": [],
   "source": [
    "import numpy as np\n",
    "import dfo_v1 as dfo\n",
    "import ECNoise as ECN\n",
    "import active_subspaces as ac\n",
    "import matplotlib.pyplot as plt"
   ]
  },
  {
   "cell_type": "markdown",
   "metadata": {},
   "source": [
    "We choose $\\mathbf{x}^{(0)}=(100,0.1,u,u,\\ldots,u)$, $u \\sim U[-100,100]$."
   ]
  },
  {
   "cell_type": "markdown",
   "metadata": {},
   "source": [
    "We let $t: \\mathbf{x}: \\mathbb{R}^{10} \\to \\mathbb{R}$, where $t(\\mathbf{x})=(x_1^2+x_2^2+x_3^2)(1+ k\\epsilon)$, where $\\epsilon \\sim N(0,1)$ so that $k\\epsilon \\sim N(0,k^2)$ and $L_1=2$."
   ]
  },
  {
   "cell_type": "code",
   "execution_count": 2,
   "metadata": {},
   "outputs": [
    {
     "name": "stdout",
     "output_type": "stream",
     "text": [
      "(10, 1)\n",
      "[[ 0.5855157  -0.15680576  0.80705724  0.83335683 -0.16981502 -0.73563419\n",
      "  -0.25181785 -0.23362434 -0.85026388  0.13054166]]\n"
     ]
    }
   ],
   "source": [
    "dim=10\n",
    "xinit=2*np.random.rand(dim,1)-1\n",
    "print(np.shape(xinit))\n",
    "\n",
    "#my nasty initial condition, but all others will plateau\n",
    "#xinit[0]=100\n",
    "#xinit[1]=.1\n",
    "print(np.transpose(xinit))"
   ]
  },
  {
   "cell_type": "code",
   "execution_count": 3,
   "metadata": {},
   "outputs": [
    {
     "name": "stdout",
     "output_type": "stream",
     "text": [
      "[[10428.68886426]]\n"
     ]
    }
   ],
   "source": [
    "k=1E-4\n",
    "def tfun(x,var=k):\n",
    "    y=np.copy(x)\n",
    "    return (1E4*np.dot(np.transpose(y[0:3,:]),y[0:3,:])+100)*(1+(k**.5)*np.random.randn(1))\n",
    "# Print check\n",
    "print(tfun(xinit))\n",
    "\n",
    "def tfun2(x,var=k):\n",
    "    y=np.copy(x)\n",
    "    return (1E4*np.dot(y[0:3],y[0:3])+100)*(1+(k**.5)*np.random.randn(1))"
   ]
  },
  {
   "cell_type": "code",
   "execution_count": 4,
   "metadata": {
    "collapsed": true
   },
   "outputs": [],
   "source": [
    "train=60 #of exploratory draws"
   ]
  },
  {
   "cell_type": "code",
   "execution_count": 5,
   "metadata": {},
   "outputs": [
    {
     "name": "stdout",
     "output_type": "stream",
     "text": [
      "(60, 1)\n",
      "n should be an integer. Performing conversion.\n",
      "[[ 0.42461958  0.00078969  0.49064824  0.14072689]\n",
      " [-0.20965942  0.46972134 -0.00696171 -0.3074362 ]\n",
      " [-0.63041303 -0.29851596  0.28562785  0.47541846]\n",
      " [ 0.15170538  0.20873832  0.34330087  0.24000305]\n",
      " [-0.36408494  0.21003292  0.13965843 -0.26600686]\n",
      " [ 0.11595402 -0.23186834 -0.56423446  0.1329084 ]\n",
      " [-0.14236735  0.37559897 -0.13981008 -0.20676929]\n",
      " [-0.35233251  0.21639112 -0.2544663   0.38748716]\n",
      " [-0.15502629  0.06096291  0.35807526 -0.152706  ]\n",
      " [ 0.20214611  0.59764942 -0.09692386  0.54535447]]\n",
      "[[41237652.59135856]\n",
      " [37610826.90640415]\n",
      " [21057334.42129176]\n",
      " [14989845.9559398 ]\n",
      " [13023713.05935216]\n",
      " [10043730.53466972]\n",
      " [ 6824003.96005968]\n",
      " [ 4484847.40951321]\n",
      " [ 2973757.8140487 ]\n",
      " [ 2134507.6919504 ]]\n"
     ]
    }
   ],
   "source": [
    "##Test of Active Subspace with random samples\n",
    "xp=2*np.random.rand(train,10)-1\n",
    "fp=np.empty(1)\n",
    "for v in xp:\n",
    "    #print(fp.shape)\n",
    "    #print(tfun2(v))\n",
    "    fp=np.vstack((fp,tfun2(v)))\n",
    "fp=np.copy(fp[1:,:])\n",
    "print(fp.shape)\n",
    "ss = ac.subspaces.Subspaces()\n",
    "ss.compute(X=xp, f=fp, nboot=0, sstype='OPG')\n",
    "sub=ss.eigenvecs[:,0:4]\n",
    "print(sub)\n",
    "print(ss.eigenvals)"
   ]
  },
  {
   "cell_type": "code",
   "execution_count": 6,
   "metadata": {},
   "outputs": [
    {
     "name": "stdout",
     "output_type": "stream",
     "text": [
      "[[ 0.42461958  0.00078969]\n",
      " [-0.20965942  0.46972134]\n",
      " [-0.63041303 -0.29851596]\n",
      " [ 0.15170538  0.20873832]\n",
      " [-0.36408494  0.21003292]\n",
      " [ 0.11595402 -0.23186834]\n",
      " [-0.14236735  0.37559897]\n",
      " [-0.35233251  0.21639112]\n",
      " [-0.15502629  0.06096291]\n",
      " [ 0.20214611  0.59764942]]\n",
      "The R^2 value of the response surface is 0.3132\n",
      "minimizer of training data= [671.06093308]\n",
      "2\n",
      "Storing inactive component= [-0.69865733  0.44958026  0.35472893 -0.12189901  0.64952176 -0.43135035\n",
      " -1.33526159  0.24380586]\n"
     ]
    }
   ],
   "source": [
    "#quadratic polynomial approximation\n",
    "RS = ac.utils.response_surfaces.PolynomialApproximation(2)\n",
    "\n",
    "print(ss.W1)\n",
    "#Train the surface with active variable values (y = XX.dot(ss.W1)) and function values (f)\n",
    "y = xp.dot(ss.W1)\n",
    "RS.train(y, fp)\n",
    "print('The R^2 value of the response surface is {:.4f}'.format(RS.Rsqr))\n",
    "\n",
    "#find minimum over training data\n",
    "ind=np.argmin(fp)\n",
    "tmax=fp[ind]\n",
    "print('minimizer of training data=',tmax)\n",
    "xstart=np.copy(xp[ind,:])\n",
    "\n",
    "adim=ss.W1.shape[1]\n",
    "print(adim)\n",
    "#indim=dim-adim\n",
    "x_inact=xstart.dot(ss.eigenvecs[:,adim:])\n",
    "print('Storing inactive component=',x_inact)                   \n",
    "\n",
    "#Plot the data and response surface prediction\n",
    "#plt.figure(figsize=(7, 7))\n",
    "#y0 = np.linspace(-2, 2, 200)\n",
    "#plt.plot(y, f, 'bo', y0, RS.predict(y0[:,None])[0], 'k-', linewidth=2, markersize=8)\n",
    "#plt.grid(True)\n",
    "#plt.xlabel('Active Variable Value', fontsize=18)\n",
    "#plt.ylabel('Output', fontsize=18)\n",
    "avdom = ac.domains.BoundedActiveVariableDomain(ss)"
   ]
  },
  {
   "cell_type": "code",
   "execution_count": 7,
   "metadata": {},
   "outputs": [
    {
     "name": "stdout",
     "output_type": "stream",
     "text": [
      "The response surface optimization results are: [[0.21467627 0.10942035]] 7208.750727771747\n",
      "[[ 0.09124216]\n",
      " [ 0.00638817]\n",
      " [-0.16799844]\n",
      " [ 0.05540776]\n",
      " [-0.05517852]\n",
      " [-0.00047854]\n",
      " [ 0.01053528]\n",
      " [-0.05195984]\n",
      " [-0.02660988]\n",
      " [ 0.10879098]]\n",
      "[[ 0.06495991]\n",
      " [-0.19525683]\n",
      " [-0.44746036]\n",
      " [-0.89393251]\n",
      " [ 0.06506189]\n",
      " [ 0.65843377]\n",
      " [-0.69011589]\n",
      " [ 0.63420849]\n",
      " [ 0.580668  ]\n",
      " [ 0.80261867]] function value at surrogate min [[2492.62164454]]\n"
     ]
    }
   ],
   "source": [
    "#Minimize using the response surface\n",
    "ystar, fstar = ac.optimizers.av_minimize(lambda x: RS.predict(x.reshape(1,adim))[0], avdom)\n",
    "print('The response surface optimization results are:',ystar,fstar)\n",
    "\n",
    "\n",
    "#projection back to full variables\n",
    "x_act_min=ss.W1@ystar.T\n",
    "print(x_act_min)\n",
    "x_inact_min=ss.eigenvecs[:,adim:]@x_inact\n",
    "xmin=x_act_min+np.reshape(x_inact_min,x_act_min.shape)\n",
    "print(xmin,'function value at surrogate min',tfun(xmin))"
   ]
  },
  {
   "cell_type": "code",
   "execution_count": 8,
   "metadata": {},
   "outputs": [
    {
     "name": "stdout",
     "output_type": "stream",
     "text": [
      "0.08502638819469373\n",
      "(10, 1) (10, 1)\n",
      "[array([0.0001771]), array([[ 0.5855157 ,  0.6124034 ,  0.63929111,  0.66617881,  0.69306652,\n",
      "         0.71995422,  0.74684193,  0.77372963,  0.80061734,  0.82750504,\n",
      "         0.85439274],\n",
      "       [-0.15680576, -0.12991806, -0.10303036, -0.07614265, -0.04925495,\n",
      "        -0.02236724,  0.00452046,  0.03140817,  0.05829587,  0.08518358,\n",
      "         0.11207128],\n",
      "       [ 0.80705724,  0.83394495,  0.86083265,  0.88772036,  0.91460806,\n",
      "         0.94149577,  0.96838347,  0.99527118,  1.02215888,  1.04904659,\n",
      "         1.07593429],\n",
      "       [ 0.83335683,  0.86024453,  0.88713224,  0.91401994,  0.94090764,\n",
      "         0.96779535,  0.99468305,  1.02157076,  1.04845846,  1.07534617,\n",
      "         1.10223387],\n",
      "       [-0.16981502, -0.14292732, -0.11603962, -0.08915191, -0.06226421,\n",
      "        -0.0353765 , -0.0084888 ,  0.01839891,  0.04528661,  0.07217432,\n",
      "         0.09906202],\n",
      "       [-0.73563419, -0.70874648, -0.68185878, -0.65497107, -0.62808337,\n",
      "        -0.60119566, -0.57430796, -0.54742025, -0.52053255, -0.49364484,\n",
      "        -0.46675714],\n",
      "       [-0.25181785, -0.22493015, -0.19804244, -0.17115474, -0.14426703,\n",
      "        -0.11737933, -0.09049162, -0.06360392, -0.03671621, -0.00982851,\n",
      "         0.01705919],\n",
      "       [-0.23362434, -0.20673664, -0.17984893, -0.15296123, -0.12607352,\n",
      "        -0.09918582, -0.07229811, -0.04541041, -0.0185227 ,  0.008365  ,\n",
      "         0.0352527 ],\n",
      "       [-0.85026388, -0.82337618, -0.79648847, -0.76960077, -0.74271306,\n",
      "        -0.71582536, -0.68893765, -0.66204995, -0.63516224, -0.60827454,\n",
      "        -0.58138683],\n",
      "       [ 0.13054166,  0.15742936,  0.18431707,  0.21120477,  0.23809248,\n",
      "         0.26498018,  0.29186789,  0.31875559,  0.3456433 ,  0.372531  ,\n",
      "         0.39941871]]), array([10234.23698518, 10962.70783246, 11719.03357079, 12399.98374713,\n",
      "       13298.97128682, 14336.32197933, 14942.06786623, 15942.08922767,\n",
      "       16622.44244389, 17664.18265835, 19263.52069937])]\n",
      "[[ 0.5855157 ]\n",
      " [-0.15680576]\n",
      " [ 0.80705724]\n",
      " [ 0.83335683]\n",
      " [-0.16981502]\n",
      " [-0.73563419]\n",
      " [-0.25181785]\n",
      " [-0.23362434]\n",
      " [-0.85026388]\n",
      " [ 0.13054166]]\n",
      "[10234.23698518 10962.70783246 11719.03357079 12399.98374713\n",
      " 13298.97128682 14336.32197933 14942.06786623 15942.08922767\n",
      " 16622.44244389 17664.18265835 19263.52069937] 0.00017710195540983432\n"
     ]
    }
   ],
   "source": [
    "M=11 # number of ECNoise f evals\n",
    "\n",
    "noise_array=ECN.ECNoise(tfun,xinit,M,mult=True)\n",
    "print(noise_array)\n",
    "print(xinit)\n",
    "mynoise=noise_array[0][0]\n",
    "gen_f_vals=noise_array[2]\n",
    "print(gen_f_vals, mynoise)"
   ]
  },
  {
   "cell_type": "code",
   "execution_count": 9,
   "metadata": {},
   "outputs": [
    {
     "name": "stdout",
     "output_type": "stream",
     "text": [
      "estimated noise var is 0.00017710195540983432 true var is 0.0001 with relative error 0.7710195540983431\n"
     ]
    }
   ],
   "source": [
    "print('estimated noise var is', mynoise, 'true var is', k, 'with relative error', abs(mynoise-k)/k)"
   ]
  },
  {
   "cell_type": "code",
   "execution_count": 10,
   "metadata": {},
   "outputs": [
    {
     "name": "stdout",
     "output_type": "stream",
     "text": [
      "0.4251319409734686\n",
      "[[10385.86209702]]\n",
      "10234.236985177717 14336.321979325096 19263.520699367513\n",
      "estimated upper bound on ||f|| is 4565.2686634079655 estimated value of L_1 from FD is 4565.268663407975\n"
     ]
    }
   ],
   "source": [
    "h=((M-1)//2)*1E-1*np.linalg.norm(xinit,ord=np.inf)\n",
    "print(h)\n",
    "print(tfun(xinit))\n",
    "fl=gen_f_vals[0]\n",
    "f0=gen_f_vals[(M-1)//2]\n",
    "fr=gen_f_vals[-1]\n",
    "print(fl,f0,fr)\n",
    "L_1_hat=abs(fl-2*f0+fr)*(1/h)**2   #*(1/fm)\n",
    "\n",
    "d1=abs(fr-f0)*(1/h)\n",
    "d2=abs(fl-f0)*(1/h)\n",
    "L_1_hat_1=abs(d1-d2)*(1/(h))   #*(1/fm)\n",
    "\n",
    "\n",
    "print('estimated upper bound on ||f''|| is', L_1_hat, 'estimated value of L_1 from FD is', L_1_hat_1)"
   ]
  },
  {
   "cell_type": "code",
   "execution_count": 11,
   "metadata": {
    "collapsed": true
   },
   "outputs": [],
   "source": [
    "mu_star=dfo.get_mult_mu_star(mynoise,L_1_hat,dim)\n",
    "h=dfo.get_h(L_1_hat,dim)"
   ]
  },
  {
   "cell_type": "code",
   "execution_count": 12,
   "metadata": {
    "collapsed": true
   },
   "outputs": [],
   "source": [
    "#stars from surrogate min\n",
    "x=np.copy(xmin)\n",
    "maxit=50\n",
    "xhist=np.array(x)\n",
    "fhist=np.array(tfun(x))\n",
    "yhist=np.copy(xhist)\n",
    "ghist=np.copy(fhist)\n",
    "L1Bhist=np.array(L_1_hat)\n",
    "for i in range(maxit):\n",
    "    [x,f,y,fy,p,q,L1B]=dfo.STARS(x,tfun,mu_star,h,mult=True)\n",
    "    xhist=np.hstack((xhist,x))\n",
    "    fhist=np.vstack((fhist,f))\n",
    "    yhist=np.hstack((yhist,y))\n",
    "    ghist=np.vstack((ghist,fy))\n",
    "    L1Bhist=np.vstack((L1Bhist,L1B))"
   ]
  },
  {
   "cell_type": "code",
   "execution_count": 13,
   "metadata": {},
   "outputs": [
    {
     "name": "stdout",
     "output_type": "stream",
     "text": [
      "our algorithm terminates with x value [[-0.00825601  0.00596406 -0.00662889 -0.81618348 -0.0635343   0.48915367\n",
      "  -0.68784539  0.67677242  0.63354248  0.84266032]] which has f value [[102.12802255]]\n"
     ]
    }
   ],
   "source": [
    "print('our algorithm terminates with x value',np.transpose(x), 'which has f value',f)"
   ]
  },
  {
   "cell_type": "code",
   "execution_count": 14,
   "metadata": {},
   "outputs": [
    {
     "name": "stdout",
     "output_type": "stream",
     "text": [
      "[[ 0.68071263]\n",
      " [-0.7154131 ]\n",
      " [ 0.93461374]\n",
      " [-0.41267384]\n",
      " [-0.71539791]\n",
      " [ 0.34228659]\n",
      " [ 0.21746996]\n",
      " [-0.54635497]\n",
      " [ 0.80100623]\n",
      " [ 0.12273   ]]\n"
     ]
    }
   ],
   "source": [
    "### Full Stars, random guess from training set\n",
    "sind=np.random.randint(train)\n",
    "\n",
    "notrain_start=np.copy(xp[sind,:])\n",
    "x=np.copy(notrain_start).reshape((dim,1))\n",
    "print(x)\n",
    "maxit=50+30 #give it the training data for free\n",
    "xhist2=np.array(x)\n",
    "fhist2=np.array(tfun(x))\n",
    "yhist2=xhist2\n",
    "ghist2=fhist2\n",
    "L1Bhist=np.array(L_1_hat)\n",
    "for i in range(maxit):\n",
    "    [x,f,y,fy,p,q,L1B]=dfo.STARS(x,tfun,mu_star,h,mult=True)\n",
    "    xhist2=np.hstack((xhist2,x))\n",
    "    fhist2=np.vstack((fhist2,f))\n",
    "    yhist2=np.hstack((yhist2,y))\n",
    "    ghist2=np.vstack((ghist2,fy))\n",
    "    L1Bhist=np.vstack((L1Bhist,L1B))"
   ]
  },
  {
   "cell_type": "code",
   "execution_count": 15,
   "metadata": {},
   "outputs": [
    {
     "name": "stdout",
     "output_type": "stream",
     "text": [
      "(10, 51) (51, 1)\n"
     ]
    }
   ],
   "source": [
    "print(xhist.shape,fhist.shape)"
   ]
  },
  {
   "cell_type": "code",
   "execution_count": 16,
   "metadata": {},
   "outputs": [
    {
     "data": {
      "image/png": "[encoded data removed]",
      "text/plain": [
       "<matplotlib.figure.Figure at 0x11314bdd8>"
      ]
     },
     "metadata": {},
     "output_type": "display_data"
    }
   ],
   "source": [
    "params = {'legend.fontsize': 25,\n",
    "          'legend.handlelength': 3}\n",
    "plt.rcParams[\"figure.figsize\"] = (35,25)\n",
    "plt.rcParams['figure.dpi'] = 80\n",
    "plt.rcParams['savefig.dpi'] = 100\n",
    "plt.rcParams['font.size'] = 40\n",
    "plt.rcParams['figure.titlesize'] = 'xx-large'\n",
    "plt.rcParams.update(params)\n",
    "\n",
    "\n",
    "plt.semilogy([0,train],[fhist2[0],fhist[0]],c='r',ls='--',lw=6)\n",
    "#plt.axvline(35,)\n",
    "plt.semilogy(train+np.arange(fhist.size),fhist,lw=6,label='Surrogate+STARS, full vars')\n",
    "plt.semilogy(fhist2,lw=6,c='g',label='STARS, full vars')\n",
    "plt.axvline(train-1,c='r')\n",
    "plt.legend()\n",
    "plt.show()"
   ]
  },
  {
   "cell_type": "code",
   "execution_count": 17,
   "metadata": {},
   "outputs": [
    {
     "name": "stdout",
     "output_type": "stream",
     "text": [
      "(60, 1) (60, 10)\n",
      "(60, 10) (10, 1)\n",
      "Function value after cycle 0 = [[597.97067461]]\n",
      "Traing with data size 71\n",
      "n should be an integer. Performing conversion.\n",
      "The R^2 value of the response surface is 0.0699\n",
      "Active variables= 1\n",
      "Storing inactive component= [[-0.8446711   0.12037812 -0.29509383 -0.29453404  0.30669439  0.20298977\n",
      "   0.09478545  0.43239175  1.37294034]]\n",
      "The response surface optimization results are: [[-0.34527968]] [[7790.01283402]]\n",
      "[[-0.10397097]\n",
      " [ 0.05749642]\n",
      " [-0.17982302]\n",
      " [ 0.08279997]\n",
      " [ 0.02005835]\n",
      " [-0.01745579]\n",
      " [ 0.11663982]\n",
      " [-0.07779197]\n",
      " [ 0.15943582]\n",
      " [ 0.14186911]]\n",
      "[[ 0.0065202 ]\n",
      " [-0.0246355 ]\n",
      " [-0.28317976]\n",
      " [-0.74167681]\n",
      " [ 0.0812162 ]\n",
      " [ 0.64811649]\n",
      " [-0.59045632]\n",
      " [ 0.56151188]\n",
      " [ 0.68032924]\n",
      " [ 1.02607476]] function value at surrogate min [[916.22569541]]\n",
      "Function value after cycle 1 = [[775.53221161]]\n",
      "Traing with data size 82\n",
      "n should be an integer. Performing conversion.\n",
      "The R^2 value of the response surface is 0.1932\n",
      "Active variables= 1\n",
      "Storing inactive component= [[-0.41657157 -0.09114859  0.48814189  0.70244185 -0.40315732 -0.39617552\n",
      "   0.08710532 -0.75988474  1.18373411]]\n",
      "The response surface optimization results are: [[-2.81396187]] [[-918.09080912]]\n",
      "[[-0.30780341]\n",
      " [-0.91302867]\n",
      " [-1.1118636 ]\n",
      " [-0.60497065]\n",
      " [ 0.63920062]\n",
      " [ 1.04544339]\n",
      " [ 0.5610598 ]\n",
      " [ 0.07679177]\n",
      " [-1.45659834]\n",
      " [ 1.20162135]]\n",
      "[[-0.26767187]\n",
      " [-0.74502882]\n",
      " [-1.16230927]\n",
      " [-1.25770317]\n",
      " [ 0.56644545]\n",
      " [ 1.54987525]\n",
      " [-0.14623037]\n",
      " [ 0.62637702]\n",
      " [-0.47076903]\n",
      " [ 2.05422319]] function value at surrogate min [[19786.37516274]]\n",
      "Function value after cycle 2 = [[9797.90356101]]\n",
      "Traing with data size 93\n",
      "n should be an integer. Performing conversion.\n",
      "The R^2 value of the response surface is 0.1784\n",
      "Active variables= 1\n",
      "Storing inactive component= [[-0.34661985 -0.85940707 -0.20114604  1.37669253  0.08861562 -0.49840127\n",
      "   1.10165621  0.20880107 -1.10552781]]\n",
      "The response surface optimization results are: [[-0.78156587]] [[6131.47030923]]\n",
      "[[-0.06010382]\n",
      " [-0.1188119 ]\n",
      " [-0.3400104 ]\n",
      " [-0.50060021]\n",
      " [ 0.04311215]\n",
      " [ 0.01657618]\n",
      " [-0.04244238]\n",
      " [ 0.23148707]\n",
      " [-0.30606746]\n",
      " [ 0.27515538]]\n",
      "[[-0.07977721]\n",
      " [-0.43483539]\n",
      " [-0.17774081]\n",
      " [-0.23780544]\n",
      " [ 0.69885743]\n",
      " [ 1.79110325]\n",
      " [ 0.16837593]\n",
      " [ 0.33719923]\n",
      " [ 0.42196067]\n",
      " [ 1.35678264]] function value at surrogate min [[2393.31776658]]\n",
      "Function value after cycle 3 = [[694.38143386]]\n",
      "Traing with data size 104\n",
      "n should be an integer. Performing conversion.\n",
      "The R^2 value of the response surface is 0.0480\n",
      "Active variables= 1\n",
      "Storing inactive component= [[ 0.35031917 -0.23109789  1.06390289 -1.10364879 -0.64083188  0.74497664\n",
      "  -0.07173301 -0.16385042  1.33913078]]\n",
      "The response surface optimization results are: [[-1.39742588]] [[5982.09185313]]\n",
      "[[-0.07865117]\n",
      " [-0.11149251]\n",
      " [-0.18843594]\n",
      " [ 0.31375395]\n",
      " [ 0.89872721]\n",
      " [-0.03337693]\n",
      " [ 0.65612993]\n",
      " [-0.12008835]\n",
      " [ 0.67998234]\n",
      " [ 0.29000786]]\n",
      "[[-0.04169796]\n",
      " [-0.26220905]\n",
      " [-0.13556106]\n",
      " [-0.09246919]\n",
      " [ 1.04339931]\n",
      " [ 1.87124646]\n",
      " [ 0.39396758]\n",
      " [ 0.22958007]\n",
      " [ 0.59637658]\n",
      " [ 1.4207501 ]] function value at surrogate min [[996.16251202]]\n",
      "Function value after cycle 4 = [[204.65495978]]\n",
      "Traing with data size 115\n",
      "n should be an integer. Performing conversion.\n",
      "The R^2 value of the response surface is 0.6001\n",
      "Active variables= 2\n",
      "Storing inactive component= [[-0.72682666 -0.41776979 -0.64346906  0.10790817  0.20555245 -0.82265069\n",
      "   1.4225061   1.08969979]]\n"
     ]
    },
    {
     "ename": "Exception",
     "evalue": "SLSQP failed with message: Positive directional derivative for linesearch.",
     "output_type": "error",
     "traceback": [
      "\u001b[0;31m---------------------------------------------------------------------------\u001b[0m",
      "\u001b[0;31mException\u001b[0m                                 Traceback (most recent call last)",
      "\u001b[0;32m<ipython-input-17-01371aaddd21>\u001b[0m in \u001b[0;36m<module>\u001b[0;34m()\u001b[0m\n\u001b[1;32m     44\u001b[0m     \u001b[0mavdom\u001b[0m \u001b[0;34m=\u001b[0m \u001b[0mac\u001b[0m\u001b[0;34m.\u001b[0m\u001b[0mdomains\u001b[0m\u001b[0;34m.\u001b[0m\u001b[0mBoundedActiveVariableDomain\u001b[0m\u001b[0;34m(\u001b[0m\u001b[0mss\u001b[0m\u001b[0;34m)\u001b[0m\u001b[0;34m\u001b[0m\u001b[0;34m\u001b[0m\u001b[0m\n\u001b[1;32m     45\u001b[0m     \u001b[0;31m#Minimize using the response surface\u001b[0m\u001b[0;34m\u001b[0m\u001b[0;34m\u001b[0m\u001b[0;34m\u001b[0m\u001b[0m\n\u001b[0;32m---> 46\u001b[0;31m     \u001b[0mystar\u001b[0m\u001b[0;34m,\u001b[0m \u001b[0mfstar\u001b[0m \u001b[0;34m=\u001b[0m \u001b[0mac\u001b[0m\u001b[0;34m.\u001b[0m\u001b[0moptimizers\u001b[0m\u001b[0;34m.\u001b[0m\u001b[0mav_minimize\u001b[0m\u001b[0;34m(\u001b[0m\u001b[0;32mlambda\u001b[0m \u001b[0mx\u001b[0m\u001b[0;34m:\u001b[0m \u001b[0mRS\u001b[0m\u001b[0;34m.\u001b[0m\u001b[0mpredict\u001b[0m\u001b[0;34m(\u001b[0m\u001b[0mx\u001b[0m\u001b[0;34m.\u001b[0m\u001b[0mreshape\u001b[0m\u001b[0;34m(\u001b[0m\u001b[0;36m1\u001b[0m\u001b[0;34m,\u001b[0m\u001b[0madim\u001b[0m\u001b[0;34m)\u001b[0m\u001b[0;34m)\u001b[0m\u001b[0;34m[\u001b[0m\u001b[0;36m0\u001b[0m\u001b[0;34m]\u001b[0m\u001b[0;34m,\u001b[0m \u001b[0mavdom\u001b[0m\u001b[0;34m)\u001b[0m\u001b[0;34m\u001b[0m\u001b[0;34m\u001b[0m\u001b[0m\n\u001b[0m\u001b[1;32m     47\u001b[0m     \u001b[0mprint\u001b[0m\u001b[0;34m(\u001b[0m\u001b[0;34m'The response surface optimization results are:'\u001b[0m\u001b[0;34m,\u001b[0m\u001b[0mystar\u001b[0m\u001b[0;34m,\u001b[0m\u001b[0mfstar\u001b[0m\u001b[0;34m)\u001b[0m\u001b[0;34m\u001b[0m\u001b[0;34m\u001b[0m\u001b[0m\n\u001b[1;32m     48\u001b[0m     \u001b[0;31m#projection back to full variables\u001b[0m\u001b[0;34m\u001b[0m\u001b[0;34m\u001b[0m\u001b[0;34m\u001b[0m\u001b[0m\n",
      "\u001b[0;32m/Users/Undertrick/anaconda/lib/python3.6/site-packages/active_subspaces-0.3-py3.6.egg/active_subspaces/optimizers.py\u001b[0m in \u001b[0;36mav_minimize\u001b[0;34m(avfun, avdom, avdfun)\u001b[0m\n\u001b[1;32m    252\u001b[0m             \u001b[0mystar\u001b[0m\u001b[0;34m,\u001b[0m \u001b[0mfstar\u001b[0m \u001b[0;34m=\u001b[0m \u001b[0minterval_minimize\u001b[0m\u001b[0;34m(\u001b[0m\u001b[0mavfun\u001b[0m\u001b[0;34m,\u001b[0m \u001b[0mavdom\u001b[0m\u001b[0;34m)\u001b[0m\u001b[0;34m\u001b[0m\u001b[0;34m\u001b[0m\u001b[0m\n\u001b[1;32m    253\u001b[0m         \u001b[0;32melse\u001b[0m\u001b[0;34m:\u001b[0m\u001b[0;34m\u001b[0m\u001b[0;34m\u001b[0m\u001b[0m\n\u001b[0;32m--> 254\u001b[0;31m             \u001b[0mystar\u001b[0m\u001b[0;34m,\u001b[0m \u001b[0mfstar\u001b[0m \u001b[0;34m=\u001b[0m \u001b[0mzonotope_minimize\u001b[0m\u001b[0;34m(\u001b[0m\u001b[0mavfun\u001b[0m\u001b[0;34m,\u001b[0m \u001b[0mavdom\u001b[0m\u001b[0;34m,\u001b[0m \u001b[0mavdfun\u001b[0m\u001b[0;34m)\u001b[0m\u001b[0;34m\u001b[0m\u001b[0;34m\u001b[0m\u001b[0m\n\u001b[0m\u001b[1;32m    255\u001b[0m     \u001b[0;32melse\u001b[0m\u001b[0;34m:\u001b[0m\u001b[0;34m\u001b[0m\u001b[0;34m\u001b[0m\u001b[0m\n\u001b[1;32m    256\u001b[0m         \u001b[0;32mraise\u001b[0m \u001b[0mException\u001b[0m\u001b[0;34m(\u001b[0m\u001b[0;34m'There is a problem with the avdom.'\u001b[0m\u001b[0;34m)\u001b[0m\u001b[0;34m\u001b[0m\u001b[0;34m\u001b[0m\u001b[0m\n",
      "\u001b[0;32m/Users/Undertrick/anaconda/lib/python3.6/site-packages/active_subspaces-0.3-py3.6.egg/active_subspaces/optimizers.py\u001b[0m in \u001b[0;36mzonotope_minimize\u001b[0;34m(avfun, avdom, avdfun)\u001b[0m\n\u001b[1;32m    337\u001b[0m                             jac=avdfun, options=opts)\n\u001b[1;32m    338\u001b[0m         \u001b[0;32mif\u001b[0m \u001b[0;32mnot\u001b[0m \u001b[0mresult\u001b[0m\u001b[0;34m.\u001b[0m\u001b[0msuccess\u001b[0m\u001b[0;34m:\u001b[0m\u001b[0;34m\u001b[0m\u001b[0;34m\u001b[0m\u001b[0m\n\u001b[0;32m--> 339\u001b[0;31m             \u001b[0;32mraise\u001b[0m \u001b[0mException\u001b[0m\u001b[0;34m(\u001b[0m\u001b[0;34m'SLSQP failed with message: {}.'\u001b[0m\u001b[0;34m.\u001b[0m\u001b[0mformat\u001b[0m\u001b[0;34m(\u001b[0m\u001b[0mresult\u001b[0m\u001b[0;34m.\u001b[0m\u001b[0mmessage\u001b[0m\u001b[0;34m)\u001b[0m\u001b[0;34m)\u001b[0m\u001b[0;34m\u001b[0m\u001b[0;34m\u001b[0m\u001b[0m\n\u001b[0m\u001b[1;32m    340\u001b[0m         \u001b[0;32mif\u001b[0m \u001b[0mresult\u001b[0m\u001b[0;34m.\u001b[0m\u001b[0mfun\u001b[0m \u001b[0;34m<\u001b[0m \u001b[0mminf\u001b[0m\u001b[0;34m:\u001b[0m\u001b[0;34m\u001b[0m\u001b[0;34m\u001b[0m\u001b[0m\n\u001b[1;32m    341\u001b[0m             \u001b[0mminf\u001b[0m \u001b[0;34m=\u001b[0m \u001b[0mresult\u001b[0m\u001b[0;34m.\u001b[0m\u001b[0mfun\u001b[0m\u001b[0;34m\u001b[0m\u001b[0;34m\u001b[0m\u001b[0m\n",
      "\u001b[0;31mException\u001b[0m: SLSQP failed with message: Positive directional derivative for linesearch."
     ]
    }
   ],
   "source": [
    "#cycles with update every 5 STARS steps\n",
    "x=np.copy(xmin)\n",
    "cycles=5\n",
    "steps=5\n",
    "xtrain=xp\n",
    "ftrain=np.copy(fp)\n",
    "print(ftrain.shape,xtrain.shape)\n",
    "print(xp.shape,x.shape)\n",
    "start=train\n",
    "end=start+steps+1\n",
    "for loops in range(cycles):\n",
    "    xhist3=np.copy(x)\n",
    "    fhist3=np.copy(tfun(x))\n",
    "    yhist3=np.copy(x)\n",
    "    ghist3=np.copy(fhist3)\n",
    "    for i in range(steps):\n",
    "        [x,f,y,fy,p,q,L1B]=dfo.STARS(x,tfun,mu_star,h,mult=True)\n",
    "        xhist3=np.hstack((xhist3,x))\n",
    "        #print(xhist3.shape)\n",
    "        fhist3=np.vstack((fhist3,f))\n",
    "        yhist3=np.hstack((yhist3,y))\n",
    "        ghist3=np.vstack((ghist3,fy))\n",
    "    plt.semilogy(range(start,end),fhist3)\n",
    "    \n",
    "    print('Function value after cycle',loops,'=',f)\n",
    "    xtrain=np.vstack((xtrain,xhist3.T,yhist3.T[1:,:]))\n",
    "    ftrain=np.vstack((ftrain,fhist3,ghist3[1:]))\n",
    "    #train surrogate on added data\n",
    "    print('Traing with data size',ftrain.size)\n",
    "    #print(ftrain.shape,xtrain.shape)\n",
    "    ss.compute(X=xtrain, f=ftrain, nboot=0, sstype='OPG')\n",
    "    #print(ss.W1)\n",
    "    #Train the surface with active variable values (y = XX.dot(ss.W1)) and function values (f)\n",
    "    y = xtrain.dot(ss.W1)\n",
    "    RS.train(y, ftrain)\n",
    "    print('The R^2 value of the response surface is {:.4f}'.format(RS.Rsqr))\n",
    "    #find minimum over training data\n",
    "    adim=ss.W1.shape[1]\n",
    "    print('Active variables=',adim)\n",
    "    #indim=dim-adim\n",
    "    x_inact=x.T.dot(ss.eigenvecs[:,adim:])\n",
    "    print('Storing inactive component=',x_inact)                   \n",
    "    \n",
    "    avdom = ac.domains.BoundedActiveVariableDomain(ss)\n",
    "    #Minimize using the response surface\n",
    "    ystar, fstar = ac.optimizers.av_minimize(lambda x: RS.predict(x.reshape(1,adim))[0], avdom)\n",
    "    print('The response surface optimization results are:',ystar,fstar)\n",
    "    #projection back to full variables\n",
    "    x_act_min=ss.W1@ystar.T\n",
    "    print(x_act_min)\n",
    "    x_inact_min=ss.eigenvecs[:,adim:]@x_inact.reshape((dim-adim,1))\n",
    "    x=x_act_min+np.reshape(x_inact_min,x_act_min.shape)\n",
    "    print(x,'function value at surrogate min',tfun(x))\n",
    "    start=end\n",
    "    end=start+steps+1\n",
    "plt.show()\n",
    "    \n",
    "    "
   ]
  },
  {
   "cell_type": "code",
   "execution_count": null,
   "metadata": {},
   "outputs": [],
   "source": [
    "for i in range(10):\n",
    "    plt.plot(yhist[i])\n",
    "plt.show()"
   ]
  },
  {
   "cell_type": "markdown",
   "metadata": {},
   "source": [
    "# OLD STUFF BELOW HERE, IGNORE"
   ]
  },
  {
   "cell_type": "markdown",
   "metadata": {},
   "source": [
    "## Sing vals weights"
   ]
  },
  {
   "cell_type": "code",
   "execution_count": null,
   "metadata": {
    "scrolled": false
   },
   "outputs": [],
   "source": [
    "ss = ac.subspaces.Subspaces()\n",
    "mu_star=dfo.get_mult_mu_star(mynoise,L_1_hat,6)\n",
    "h=dfo.get_h(L_1_hat,6)\n",
    "\n",
    "for tr_stop in range(40,200,10):\n",
    "\n",
    "    trainx=np.hstack((xhist[:,0:tr_stop],yhist[:,1:tr_stop]))\n",
    "    trainf=np.vstack((fhist[0:tr_stop],ghist[1:tr_stop]))\n",
    "    trainx=np.transpose(trainx)\n",
    "\n",
    "\n",
    "    # Use Local Linears\n",
    "    #df = ac.gradients.local_linear_gradients(x_hist, f_hist) #Estimated gradients using local linear models\n",
    "    #ss.compute(df=df, nboot=0)\n",
    "    \n",
    "    # Use Global Quadratic\n",
    "    ss.compute(X=trainx, f=trainf, nboot=0, sstype='QPHD')\n",
    "\n",
    "    sub=ss.eigenvecs[:,0:6]\n",
    "    \n",
    "\n",
    "    our_wts=np.sqrt(ss.eigenvals)\n",
    "    print(our_wts)\n",
    "    x4=np.transpose([xhist[:,tr_stop-1]])\n",
    "    xhist4=np.array(x4)\n",
    "    fhist4=np.array(tfun(x4))\n",
    "\n",
    "\n",
    "    for i in range(0,500-tr_stop):\n",
    "        [x4,f,temp,temp2,p,q,L1B]=dfo.STARS(x4,tfun,mu_star,h,active=sub, wts=None, mult=True)\n",
    "        xhist4=np.hstack((xhist4,x4))\n",
    "        fhist4=np.vstack((fhist4,f))\n",
    "    plt.semilogy(range(tr_stop,501),fhist4,label='Train '+str(tr_stop),lw=6)\n",
    "\n",
    "\n",
    "plt.semilogy(fhist, ls=':', lw=6, label='STARS full vars')\n",
    "\n",
    "plt.xlabel('$k$, iteration count')\n",
    "plt.ylabel('$\\log f(\\lambda^{(k)})$')\n",
    "plt.title('Example 1: Learning the AS from STARS iteartes')\n",
    "plt.legend()\n",
    "plt.show()"
   ]
  },
  {
   "cell_type": "markdown",
   "metadata": {},
   "source": [
    "## Equal weights"
   ]
  },
  {
   "cell_type": "code",
   "execution_count": null,
   "metadata": {
    "collapsed": true,
    "scrolled": false
   },
   "outputs": [],
   "source": [
    "ss = ac.subspaces.Subspaces()\n",
    "mu_star=dfo.get_mult_mu_star(mynoise,L_1_hat,3)\n",
    "h=dfo.get_h(L_1_hat,3)\n",
    "\n",
    "for tr_stop in range(50,500,50):\n",
    "\n",
    "    trainx=np.hstack((xhist[:,0:tr_stop],yhist[:,0:tr_stop]))\n",
    "    trainf=np.vstack((fhist[0:tr_stop],ghist[0:tr_stop]))\n",
    "    trainx=np.transpose(trainx)\n",
    "\n",
    "\n",
    "    # Use Local Linears\n",
    "    #df = ac.gradients.local_linear_gradients(x_hist, f_hist) #Estimated gradients using local linear models\n",
    "    #ss.compute(df=df, nboot=0)\n",
    "    \n",
    "    # Use Global Quadratic\n",
    "    ss.compute(X=trainx, f=trainf, nboot=0, sstype='QPHD')\n",
    "\n",
    "    #sub=ss.eigenvecs[:,0:3]\n",
    "    sub=ss.eigenvecs\n",
    "    \n",
    "    our_wts=np.sqrt(ss.eigenvals)\n",
    "    print(our_wts)\n",
    "    \n",
    "    x4=np.transpose([xhist[:,tr_stop-1]])\n",
    "    xhist4=np.array(x4)\n",
    "    fhist4=np.array(tfun(x4))\n",
    "\n",
    "\n",
    "    for i in range(0,500-tr_stop):\n",
    "        [x4,f,temp,temp2,p,q,L1B]=dfo.STARS(x4,tfun,mu_star,h,active=sub, wts=None, mult=True)\n",
    "        xhist4=np.hstack((xhist4,x4))\n",
    "        fhist4=np.vstack((fhist4,f))\n",
    "    plt.semilogy(range(tr_stop,501),fhist4,label='Train '+str(tr_stop),lw=6)\n",
    "\n",
    "\n",
    "plt.semilogy(fhist, ls=':', lw=6, label='STARS full vars')\n",
    "\n",
    "plt.xlabel('$k$, iteration count')\n",
    "plt.ylabel('$\\log f(\\lambda^{(k)})$')\n",
    "plt.title('Example 1: Learning the AS from STARS iteartes')\n",
    "plt.legend()\n",
    "plt.show()"
   ]
  },
  {
   "cell_type": "code",
   "execution_count": null,
   "metadata": {
    "collapsed": true
   },
   "outputs": [],
   "source": [
    "plt.plot(yhist[2],lw=6)"
   ]
  },
  {
   "cell_type": "code",
   "execution_count": null,
   "metadata": {
    "collapsed": true
   },
   "outputs": [],
   "source": [
    "mu_star=dfo.get_mult_mu_star(mynoise,L_1_hat,3)\n",
    "h=dfo.get_h(L_1_hat,3)\n",
    "\n",
    "\n",
    "x3=np.copy(xinit)\n",
    "xhist3=np.array(x3)\n",
    "fhist3=np.array(tfun(x3))\n",
    "active=np.eye(dim)\n",
    "active=np.transpose(active[0:3,:])\n",
    "eigenvals=np.zeros((dim,1))\n",
    "for i in range(3):\n",
    "    eigenvals[i]=1\n",
    "\n",
    "\n",
    "for i in range(500):\n",
    "    [x3,f,temp1,temp2, p ,q,L1B]=dfo.STARS(x3,tfun,mu_star,h,active=active,mult=True,wts=eigenvals)\n",
    "    xhist3=np.hstack((xhist3,x3))\n",
    "    fhist3=np.vstack((fhist3,f))\n",
    "    \n",
    "plt.semilogy(fhist3,lw=6, label='active stars with true active vars')\n",
    "plt.legend()\n",
    "plt.show()"
   ]
  },
  {
   "cell_type": "code",
   "execution_count": null,
   "metadata": {
    "collapsed": true
   },
   "outputs": [],
   "source": [
    "plt.figure(figsize=(15,10))\n",
    "ss = ac.subspaces.Subspaces()\n",
    "mu_star=dfo.get_mult_mu_star(mynoise,L_1_hat,3)\n",
    "h=dfo.get_h(L_1_hat,3)\n",
    "\n",
    "tr_stop=100\n",
    "\n",
    "trainx=np.hstack((xhist[:,0:tr_stop],yhist[:,0:tr_stop]))\n",
    "trainf=np.vstack((fhist[0:tr_stop],ghist[0:tr_stop]))\n",
    "trainx=np.transpose(trainx)\n",
    "\n",
    "\n",
    "\n",
    "# Use Global Quadratic\n",
    "ss.compute(X=trainx, f=trainf, nboot=0, sstype='QPHD')\n",
    "\n",
    "sub=ss.eigenvecs\n",
    "our_wts=np.sqrt(ss.eigenvals)\n",
    "print(our_wts)\n",
    " \n",
    "x4=np.transpose([xhist[:,tr_stop-1]])\n",
    "xhist4=np.array(x4)\n",
    "fhist5=np.vstack((fhist[0:tr_stop],tfun(x4)))\n",
    "\n",
    "\n",
    "for i in range(0,500-tr_stop):\n",
    "    [x4,f,temp,temp2,p,q,L1B]=dfo.STARS(x4,tfun,mu_star,h,active=sub,wts=None, mult=True)\n",
    "    xhist4=np.hstack((xhist4,x4))\n",
    "    fhist5=np.vstack((fhist5,f))\n",
    "    #plt.semilogy(range(tr_stop,301),fhist4,label='Train '+str(tr_stop))\n",
    "\n",
    "\n",
    "plt.semilogy(fhist5, label='active stars on 100 training points')\n",
    "plt.legend()\n",
    "plt.show()"
   ]
  },
  {
   "cell_type": "code",
   "execution_count": null,
   "metadata": {
    "collapsed": true
   },
   "outputs": [],
   "source": [
    "plt.xlabel('$k$, iteration count')\n",
    "plt.ylabel('$\\log f(\\lambda^{(k)})$')\n",
    "plt.title('Example 1: STARS and ASTARS Convergence')\n",
    "\n",
    "plt.semilogy(fhist, lw=9, label='STARS, full vars with learned hyperparams')\n",
    "plt.semilogy(fhist3, lw=9, ls=':',  label='Active STARS, true active vars with learned hyperparams')\n",
    "plt.semilogy(fhist5, lw=9, ls=':',label='Active STARS, learned active vars with learned hyperparams')\n",
    "\n",
    "plt.legend()\n",
    "plt.show()"
   ]
  }
 ],
 "metadata": {
  "kernelspec": {
   "display_name": "Python [default]",
   "language": "python",
   "name": "python3"
  },
  "language_info": {
   "codemirror_mode": {
    "name": "ipython",
    "version": 3
   },
   "file_extension": ".py",
   "mimetype": "text/x-python",
   "name": "python",
   "nbconvert_exporter": "python",
   "pygments_lexer": "ipython3",
   "version": "3.6.8"
  }
 },
 "nbformat": 4,
 "nbformat_minor": 2
}
