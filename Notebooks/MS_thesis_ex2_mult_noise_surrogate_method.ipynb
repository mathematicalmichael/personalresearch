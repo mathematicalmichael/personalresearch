{
 "cells": [
  {
   "cell_type": "markdown",
   "metadata": {},
   "source": [
    "## MS Example 2: Additive Noise, Surrogate-Based Methods"
   ]
  },
  {
   "cell_type": "code",
   "execution_count": 1,
   "metadata": {},
   "outputs": [],
   "source": [
    "import numpy as np\n",
    "import dfo_v1 as dfo\n",
    "import ECNoise as ECN\n",
    "import active_subspaces as ac\n",
    "import matplotlib.pyplot as plt"
   ]
  },
  {
   "cell_type": "markdown",
   "metadata": {},
   "source": [
    "We let $f: \\mathbf{\\lambda}: \\mathbb{R}^{11} \\to \\mathbb{R}$, where $$f(\\lambda; \\xi)=\\sum_{i=0}^{10} 2^{(-1)^i i}\\lambda_i^2+\\epsilon(\\xi), \\quad \\epsilon(\\xi) \\sim U[-k,k], \\quad k=1 \\times 10^{-2}.$$"
   ]
  },
  {
   "cell_type": "code",
   "execution_count": 2,
   "metadata": {},
   "outputs": [],
   "source": [
    "k=1E-2\n",
    "\n",
    "dim=11\n",
    "\n",
    "weights=np.zeros((1,dim)) # row vec to make IP easy\n",
    "for i in range(dim):\n",
    "    weights[:,i]=2**(((-1)**i)*i)\n",
    "\n",
    "def tfun(x,var=k):\n",
    "    y=np.copy(x)\n",
    "    y=y**2   \n",
    "    return np.dot(weights,y)*(1+k*(2*np.random.rand()-1))"
   ]
  },
  {
   "cell_type": "markdown",
   "metadata": {},
   "source": [
    "## Sample 100 random draws in $\\Lambda$, build a surrogate, minimize"
   ]
  },
  {
   "cell_type": "code",
   "execution_count": 3,
   "metadata": {},
   "outputs": [
    {
     "name": "stdout",
     "output_type": "stream",
     "text": [
      "(11, 100) [[-0.1494416 ]\n",
      " [ 0.8751241 ]\n",
      " [ 0.26666952]\n",
      " [-0.66734957]\n",
      " [ 0.40247732]\n",
      " [-0.76564116]\n",
      " [ 0.46512422]\n",
      " [ 0.71282808]\n",
      " [ 0.99570347]\n",
      " [-0.36469183]\n",
      " [-0.43363187]]\n"
     ]
    }
   ],
   "source": [
    "# Perform draws\n",
    "n_samps=100\n",
    "\n",
    "X=np.random.rand(dim,n_samps)\n",
    "samps=2*X-1\n",
    "print(samps.shape,samps[:,0:1])"
   ]
  },
  {
   "cell_type": "code",
   "execution_count": 4,
   "metadata": {},
   "outputs": [
    {
     "name": "stdout",
     "output_type": "stream",
     "text": [
      "(100, 1)\n"
     ]
    }
   ],
   "source": [
    "# Compute the f values\n",
    "\n",
    "f_vals=np.zeros((n_samps,1))\n",
    "\n",
    "for i in range(n_samps):\n",
    "    \n",
    "    f_vals[i] = tfun(samps[:,i:i+1])\n",
    "    \n",
    "print(f_vals.shape)"
   ]
  },
  {
   "cell_type": "code",
   "execution_count": 5,
   "metadata": {},
   "outputs": [
    {
     "name": "stdout",
     "output_type": "stream",
     "text": [
      "n should be an integer. Performing conversion.\n",
      "[[ 7.00478262e-04]\n",
      " [ 2.27711323e-03]\n",
      " [ 9.74564790e-04]\n",
      " [ 1.43688181e-03]\n",
      " [ 4.23793874e-04]\n",
      " [ 1.76129437e-03]\n",
      " [-5.22044096e-05]\n",
      " [ 7.63276183e-04]\n",
      " [-6.07692763e-04]\n",
      " [-2.27750589e-03]\n",
      " [-9.99990943e-01]]\n",
      "\n",
      "[[1.18231831e+03]\n",
      " [3.00080062e+02]\n",
      " [7.24879718e+01]\n",
      " [1.88930948e+01]\n",
      " [8.82636002e+00]\n",
      " [6.91380080e+00]\n",
      " [3.98422309e+00]\n",
      " [3.33908743e+00]\n",
      " [2.68841720e+00]\n",
      " [1.15823818e+00]\n",
      " [3.53753941e-01]]\n"
     ]
    }
   ],
   "source": [
    "ss = ac.subspaces.Subspaces()\n",
    "\n",
    "trainx=np.transpose(samps)\n",
    "\n",
    "# Use Global Quadratic\n",
    "ss.compute(X=trainx, f=f_vals, nboot=0, sstype='QPHD')\n",
    "    \n",
    "RS=ac.utils.response_surfaces.PolynomialApproximation(2)\n",
    "    \n",
    "y1 = trainx.dot(ss.W1)\n",
    "    \n",
    "RS.train(y1, f_vals)\n",
    "\n",
    "print(ss.W1)\n",
    "\n",
    "print()\n",
    "\n",
    "print(np.sqrt(ss.eigenvals))"
   ]
  },
  {
   "cell_type": "code",
   "execution_count": 6,
   "metadata": {},
   "outputs": [
    {
     "name": "stdout",
     "output_type": "stream",
     "text": [
      "[[-0.00269124]] [[108.96114737]] 0.9369650194649976\n"
     ]
    }
   ],
   "source": [
    "avdom=ac.domains.BoundedActiveVariableDomain(ss)\n",
    "    \n",
    "ystar, fstar = ac.optimizers.av_minimize(lambda x: RS.predict(x.reshape(1,1))[0], avdom)\n",
    "\n",
    "print(ystar,fstar,RS.Rsqr)"
   ]
  }
 ],
 "metadata": {
  "kernelspec": {
   "display_name": "Python 3",
   "language": "python",
   "name": "python3"
  },
  "language_info": {
   "codemirror_mode": {
    "name": "ipython",
    "version": 3
   },
   "file_extension": ".py",
   "mimetype": "text/x-python",
   "name": "python",
   "nbconvert_exporter": "python",
   "pygments_lexer": "ipython3",
   "version": "3.6.5"
  }
 },
 "nbformat": 4,
 "nbformat_minor": 2
}
