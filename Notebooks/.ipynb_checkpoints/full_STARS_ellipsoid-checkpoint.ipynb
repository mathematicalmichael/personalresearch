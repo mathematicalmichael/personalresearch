{
 "cells": [
  {
   "cell_type": "code",
   "execution_count": 1,
   "metadata": {},
   "outputs": [
    {
     "ename": "ModuleNotFoundError",
     "evalue": "No module named 'utils'",
     "output_type": "error",
     "traceback": [
      "\u001b[1;31m---------------------------------------------------------------------------\u001b[0m",
      "\u001b[1;31mModuleNotFoundError\u001b[0m                       Traceback (most recent call last)",
      "\u001b[1;32m<ipython-input-1-77c931c13d69>\u001b[0m in \u001b[0;36m<module>\u001b[1;34m()\u001b[0m\n\u001b[0;32m      1\u001b[0m \u001b[0mget_ipython\u001b[0m\u001b[1;33m(\u001b[0m\u001b[1;33m)\u001b[0m\u001b[1;33m.\u001b[0m\u001b[0mrun_line_magic\u001b[0m\u001b[1;33m(\u001b[0m\u001b[1;34m'matplotlib'\u001b[0m\u001b[1;33m,\u001b[0m \u001b[1;34m'inline'\u001b[0m\u001b[1;33m)\u001b[0m\u001b[1;33m\u001b[0m\u001b[0m\n\u001b[1;32m----> 2\u001b[1;33m \u001b[1;32mimport\u001b[0m \u001b[0mactive_subspaces\u001b[0m \u001b[1;32mas\u001b[0m \u001b[0mac\u001b[0m\u001b[1;33m\u001b[0m\u001b[0m\n\u001b[0m\u001b[0;32m      3\u001b[0m \u001b[1;32mimport\u001b[0m \u001b[0mnumpy\u001b[0m \u001b[1;32mas\u001b[0m \u001b[0mnp\u001b[0m\u001b[1;33m\u001b[0m\u001b[0m\n\u001b[0;32m      4\u001b[0m \u001b[1;32mimport\u001b[0m \u001b[0mmatplotlib\u001b[0m\u001b[1;33m.\u001b[0m\u001b[0mpyplot\u001b[0m \u001b[1;32mas\u001b[0m \u001b[0mplt\u001b[0m\u001b[1;33m\u001b[0m\u001b[0m\n",
      "\u001b[1;32m~\\Dropbox\\repos\\personalresearch\\Notebooks\\active_subspaces\\__init__.py\u001b[0m in \u001b[0;36m<module>\u001b[1;34m()\u001b[0m\n\u001b[0;32m      1\u001b[0m \u001b[1;34m''' This is the init file.'''\u001b[0m\u001b[1;33m\u001b[0m\u001b[0m\n\u001b[1;32m----> 2\u001b[1;33m \u001b[1;32mimport\u001b[0m \u001b[0mutils\u001b[0m\u001b[1;33m,\u001b[0m \u001b[0mdomains\u001b[0m\u001b[1;33m,\u001b[0m \u001b[0mgradients\u001b[0m\u001b[1;33m,\u001b[0m \u001b[0mintegrals\u001b[0m\u001b[1;33m,\u001b[0m \u001b[0moptimizers\u001b[0m\u001b[1;33m,\u001b[0m \u001b[0mresponse_surfaces\u001b[0m\u001b[1;33m,\u001b[0m \u001b[0msubspaces\u001b[0m\u001b[1;33m\u001b[0m\u001b[0m\n\u001b[0m",
      "\u001b[1;31mModuleNotFoundError\u001b[0m: No module named 'utils'"
     ]
    }
   ],
   "source": [
    "%matplotlib inline\n",
    "import active_subspaces as ac\n",
    "import numpy as np\n",
    "import matplotlib.pyplot as plt"
   ]
  },
  {
   "cell_type": "code",
   "execution_count": null,
   "metadata": {},
   "outputs": [],
   "source": [
    "M = 1000 #This is the number of data points to use\n",
    "\n",
    "#Sample the input space according to the distributions in the table above\n",
    "Sw = np.random.uniform(150, 200, (M, 1))\n",
    "Wfw = np.random.uniform(220, 300, (M, 1))\n",
    "A = np.random.uniform(6, 10, (M, 1))\n",
    "L = np.random.uniform(-10, 10, (M, 1))\n",
    "q = np.random.uniform(16, 45, (M, 1))\n",
    "l = np.random.uniform(.5, 1, (M, 1))\n",
    "tc = np.random.uniform(.08, .18, (M, 1))\n",
    "Nz = np.random.uniform(2.5, 6, (M, 1))\n",
    "Wdg = np.random.uniform(1700, 2500, (M, 1))\n",
    "Wp = np.random.uniform(.025, .08, (M, 1))\n",
    "\n",
    "#The input matrix\n",
    "x = np.hstack((Sw, Wfw, A, L, q, l, tc, Nz, Wdg, Wp))\n",
    "\n",
    "#The function's output\n",
    "f = np.sum(10*Sw+Wfw, axis=0)[0]\n",
    "\n",
    "#Upper and lower limits for inputs\n",
    "ub = np.array([150, 220, 6, -10, 16, .5, .08, 2.5, 1700, .025]).reshape((1, 10))\n",
    "lb = np.array([200, 300, 10, 10, 45, 1, .18, 6, 2500, .08]).reshape((1, 10))\n",
    "\n",
    "#We normalize the inputs to the interval [-1, 1]: \n",
    "XX = 2.*(x - lb)/(ub - lb) - 1.0"
   ]
  },
  {
   "cell_type": "code",
   "execution_count": null,
   "metadata": {},
   "outputs": [],
   "source": [
    "#Instantiate a subspace object\n",
    "ss = ac.subspaces.Subspaces()\n",
    "\n",
    "#Compute the subspace with a global linear model (sstype='OLS') and 100 bootstrap replicates\n",
    "ss.compute(X=XX, f=f, nboot=100, sstype='OLS')"
   ]
  },
  {
   "cell_type": "code",
   "execution_count": null,
   "metadata": {},
   "outputs": [],
   "source": []
  }
 ],
 "metadata": {
  "kernelspec": {
   "display_name": "Python 3",
   "language": "python",
   "name": "python3"
  },
  "language_info": {
   "codemirror_mode": {
    "name": "ipython",
    "version": 3
   },
   "file_extension": ".py",
   "mimetype": "text/x-python",
   "name": "python",
   "nbconvert_exporter": "python",
   "pygments_lexer": "ipython3",
   "version": "3.6.5"
  }
 },
 "nbformat": 4,
 "nbformat_minor": 2
}
