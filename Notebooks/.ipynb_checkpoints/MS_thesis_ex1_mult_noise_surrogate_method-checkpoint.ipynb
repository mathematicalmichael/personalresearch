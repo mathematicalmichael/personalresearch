{
 "cells": [
  {
   "cell_type": "markdown",
   "metadata": {},
   "source": [
    "## MS Example 1: Multiplicative Noise, Surrogate-Based Methods"
   ]
  },
  {
   "cell_type": "code",
   "execution_count": 1,
   "metadata": {},
   "outputs": [],
   "source": [
    "import numpy as np\n",
    "import dfo_v1 as dfo\n",
    "import ECNoise as ECN\n",
    "import active_subspaces as ac\n",
    "import matplotlib.pyplot as plt"
   ]
  },
  {
   "cell_type": "markdown",
   "metadata": {},
   "source": [
    "We let $t: \\mathbf{x}: \\mathbb{R}^{10} \\to \\mathbb{R}$, where $t(\\mathbf{x})=(x_1^2+x_2^2+x_3^2)(1+ k\\epsilon)$, where $\\epsilon \\sim N(0,1)$ so that $k\\epsilon \\sim N(0,k^2)$ and $L_1=2$."
   ]
  },
  {
   "cell_type": "code",
   "execution_count": 2,
   "metadata": {},
   "outputs": [],
   "source": [
    "dim=10\n",
    "k=1E-4\n",
    "def tfun(x,var=k):\n",
    "    y=np.copy(x)\n",
    "    return 1e2*np.dot(np.transpose(y[0:3,:]),y[0:3,:])*(1+(k**.5)*np.random.randn(1))"
   ]
  },
  {
   "cell_type": "markdown",
   "metadata": {},
   "source": [
    "## Sample 100 random draws in $\\Lambda$, build a surrogate, minimize"
   ]
  },
  {
   "cell_type": "code",
   "execution_count": 3,
   "metadata": {},
   "outputs": [
    {
     "name": "stdout",
     "output_type": "stream",
     "text": [
      "(10, 100) [[-0.37930911]\n",
      " [-0.63651892]\n",
      " [-0.22356893]\n",
      " [ 0.35803441]\n",
      " [ 0.28893941]\n",
      " [-0.82085769]\n",
      " [-0.92040034]\n",
      " [-0.02394406]\n",
      " [-0.82720953]\n",
      " [ 0.0314007 ]]\n"
     ]
    }
   ],
   "source": [
    "# Perform draws\n",
    "n_samps=100\n",
    "\n",
    "X=np.random.rand(dim,n_samps)\n",
    "samps=2*X-1\n",
    "print(samps.shape,samps[:,0:1])"
   ]
  },
  {
   "cell_type": "code",
   "execution_count": 4,
   "metadata": {},
   "outputs": [
    {
     "name": "stdout",
     "output_type": "stream",
     "text": [
      "(100, 1)\n"
     ]
    }
   ],
   "source": [
    "# Compute the f values\n",
    "\n",
    "f_vals=np.zeros((n_samps,1))\n",
    "\n",
    "for i in range(n_samps):\n",
    "    \n",
    "    f_vals[i] = tfun(samps[:,i:i+1])\n",
    "    \n",
    "print(f_vals.shape)\n",
    "    "
   ]
  },
  {
   "cell_type": "code",
   "execution_count": 5,
   "metadata": {},
   "outputs": [
    {
     "name": "stdout",
     "output_type": "stream",
     "text": [
      "n should be an integer. Performing conversion.\n",
      "[[ 9.36056118e-01  8.43293543e-02  3.41475647e-01]\n",
      " [-3.48828591e-01  3.46740817e-01  8.70659591e-01]\n",
      " [ 4.49822940e-02  9.34159265e-01 -3.53990151e-01]\n",
      " [ 4.67640647e-03  1.30449343e-03 -2.58229727e-03]\n",
      " [-2.70917407e-03  1.89643862e-03 -8.85229962e-04]\n",
      " [ 5.84936051e-03 -3.67346339e-04 -3.31775561e-03]\n",
      " [-1.98674685e-03  6.56099832e-05 -1.47282614e-03]\n",
      " [-3.89230404e-03  4.06224860e-04 -2.36955939e-03]\n",
      " [-1.88230528e-03  3.13940406e-04 -2.55650743e-03]\n",
      " [ 2.84398881e-03 -3.64161542e-04  2.11022771e-03]]\n",
      "\n",
      "[[1.33863011e+04]\n",
      " [1.33181928e+04]\n",
      " [1.31831252e+04]\n",
      " [2.32959555e+00]\n",
      " [1.80381694e+00]\n",
      " [1.17127723e+00]\n",
      " [5.42501412e-01]\n",
      " [3.97833341e-01]\n",
      " [2.34990408e-01]\n",
      " [1.08216873e-02]]\n"
     ]
    }
   ],
   "source": [
    "ss = ac.subspaces.Subspaces()\n",
    "\n",
    "trainx=np.transpose(samps)\n",
    "\n",
    "# Use Global Quadratic\n",
    "ss.compute(X=trainx, f=f_vals, nboot=0, sstype='QPHD')\n",
    "    \n",
    "RS=ac.utils.response_surfaces.PolynomialApproximation(2)\n",
    "    \n",
    "y1 = trainx.dot(ss.W1)\n",
    "    \n",
    "RS.train(y1, f_vals)\n",
    "\n",
    "print(ss.W1)\n",
    "\n",
    "print()\n",
    "\n",
    "print(ss.eigenvals)"
   ]
  },
  {
   "cell_type": "code",
   "execution_count": 6,
   "metadata": {},
   "outputs": [
    {
     "name": "stdout",
     "output_type": "stream",
     "text": [
      "[[-0.00168002  0.00090247 -0.00287383]] 0.4115832160659415 0.9997161135203906\n"
     ]
    }
   ],
   "source": [
    "avdom=ac.domains.BoundedActiveVariableDomain(ss)\n",
    "    \n",
    "ystar, fstar = ac.optimizers.av_minimize(lambda x: RS.predict(x.reshape(1,3))[0], avdom)\n",
    "\n",
    "print(ystar,fstar,RS.Rsqr)"
   ]
  }
 ],
 "metadata": {
  "kernelspec": {
   "display_name": "Python 3",
   "language": "python",
   "name": "python3"
  },
  "language_info": {
   "codemirror_mode": {
    "name": "ipython",
    "version": 3
   },
   "file_extension": ".py",
   "mimetype": "text/x-python",
   "name": "python",
   "nbconvert_exporter": "python",
   "pygments_lexer": "ipython3",
   "version": "3.6.5"
  }
 },
 "nbformat": 4,
 "nbformat_minor": 2
}
