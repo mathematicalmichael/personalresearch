{
 "cells": [
  {
   "cell_type": "markdown",
   "metadata": {},
   "source": [
    "## MS Example 1: Additive Noise, Surrogate-Based Methods"
   ]
  },
  {
   "cell_type": "code",
   "execution_count": 1,
   "metadata": {},
   "outputs": [],
   "source": [
    "import numpy as np\n",
    "import dfo_v1 as dfo\n",
    "import ECNoise as ECN\n",
    "import active_subspaces as ac\n",
    "import matplotlib.pyplot as plt"
   ]
  },
  {
   "cell_type": "markdown",
   "metadata": {},
   "source": [
    "We let $t: \\mathbf{x}: \\mathbb{R}^{10} \\to \\mathbb{R}$, where $t(\\mathbf{x})=x_1^2+x_2^2+x_3^2+ k\\epsilon$, where $\\epsilon \\sim N(0,1)$ so that $k\\epsilon \\sim N(0,k^2)$ and $L_1=2$."
   ]
  },
  {
   "cell_type": "code",
   "execution_count": 2,
   "metadata": {},
   "outputs": [],
   "source": [
    "k=1E-4\n",
    "dim=10\n",
    "def tfun(x,var=k):\n",
    "    y=np.copy(x)\n",
    "    return 1e4*np.dot(np.transpose(y[0:3,:]),y[0:3,:])+(k**.5)*np.random.randn(1)"
   ]
  },
  {
   "cell_type": "markdown",
   "metadata": {},
   "source": [
    "## Sample 100 random draws in $\\Lambda$, build a surrogate, minimize"
   ]
  },
  {
   "cell_type": "code",
   "execution_count": 3,
   "metadata": {},
   "outputs": [
    {
     "name": "stdout",
     "output_type": "stream",
     "text": [
      "(10, 100) [[ 0.59605997]\n",
      " [ 0.94060906]\n",
      " [-0.59234912]\n",
      " [-0.49750677]\n",
      " [-0.96056778]\n",
      " [ 0.55594789]\n",
      " [ 0.50568431]\n",
      " [-0.06900009]\n",
      " [ 0.59471606]\n",
      " [ 0.38229387]]\n"
     ]
    }
   ],
   "source": [
    "# Perform draws\n",
    "n_samps=100\n",
    "\n",
    "X=np.random.rand(dim,n_samps)\n",
    "samps=2*X-1\n",
    "print(samps.shape,samps[:,0:1])"
   ]
  },
  {
   "cell_type": "code",
   "execution_count": 4,
   "metadata": {},
   "outputs": [
    {
     "name": "stdout",
     "output_type": "stream",
     "text": [
      "(100, 1)\n"
     ]
    }
   ],
   "source": [
    "# Compute the f values\n",
    "\n",
    "f_vals=np.zeros((n_samps,1))\n",
    "\n",
    "for i in range(n_samps):\n",
    "    \n",
    "    f_vals[i] = tfun(samps[:,i:i+1])\n",
    "    \n",
    "print(f_vals.shape)\n",
    "    "
   ]
  },
  {
   "cell_type": "code",
   "execution_count": 5,
   "metadata": {
    "scrolled": false
   },
   "outputs": [
    {
     "name": "stdout",
     "output_type": "stream",
     "text": [
      "n should be an integer. Performing conversion.\n",
      "[[ 1.20561340e-01  9.85152355e-01  1.22228482e-01]\n",
      " [-8.67229132e-01  1.64439751e-01 -4.69971489e-01]\n",
      " [-4.83092740e-01 -4.93397075e-02  8.74177898e-01]\n",
      " [ 7.30132553e-07  1.72252943e-07 -7.23156617e-08]\n",
      " [ 2.76260720e-08  8.16544312e-07  8.75261039e-07]\n",
      " [ 2.29134832e-07 -3.31953164e-07 -1.90707939e-07]\n",
      " [ 1.74626535e-07  1.85921825e-07  3.12094427e-07]\n",
      " [ 2.94427843e-07  1.47228613e-07 -2.33960421e-07]\n",
      " [ 1.28131638e-07 -5.37224695e-07  4.80246317e-07]\n",
      " [ 6.00641379e-07  1.62677895e-07 -8.76984097e-08]]\n",
      "\n",
      "[[1.33333725e+08]\n",
      " [1.33333385e+08]\n",
      " [1.33333215e+08]\n",
      " [6.97799874e-04]\n",
      " [5.00598694e-04]\n",
      " [3.18102316e-04]\n",
      " [2.51829839e-04]\n",
      " [4.34649445e-05]\n",
      " [2.83561421e-05]\n",
      " [8.95331765e-06]]\n"
     ]
    }
   ],
   "source": [
    "ss = ac.subspaces.Subspaces()\n",
    "\n",
    "trainx=np.transpose(samps)\n",
    "\n",
    "# Use Global Quadratic\n",
    "ss.compute(X=trainx, f=f_vals, nboot=0, sstype='QPHD')\n",
    "    \n",
    "RS=ac.utils.response_surfaces.PolynomialApproximation(2)\n",
    "    \n",
    "y1 = trainx.dot(ss.W1)\n",
    "    \n",
    "RS.train(y1, f_vals)\n",
    "\n",
    "print(ss.W1)\n",
    "\n",
    "print()\n",
    "\n",
    "print(ss.eigenvals)"
   ]
  },
  {
   "cell_type": "code",
   "execution_count": 6,
   "metadata": {},
   "outputs": [
    {
     "name": "stdout",
     "output_type": "stream",
     "text": [
      "[[1.95639729e-07 6.64396458e-08 2.87408371e-08]] -0.006663262737948286 0.999999999993372\n"
     ]
    }
   ],
   "source": [
    "avdom=ac.domains.BoundedActiveVariableDomain(ss)\n",
    "    \n",
    "ystar, fstar = ac.optimizers.av_minimize(lambda x: RS.predict(x.reshape(1,3))[0], avdom)\n",
    "\n",
    "print(ystar,fstar,RS.Rsqr)"
   ]
  }
 ],
 "metadata": {
  "kernelspec": {
   "display_name": "Python 3",
   "language": "python",
   "name": "python3"
  },
  "language_info": {
   "codemirror_mode": {
    "name": "ipython",
    "version": 3
   },
   "file_extension": ".py",
   "mimetype": "text/x-python",
   "name": "python",
   "nbconvert_exporter": "python",
   "pygments_lexer": "ipython3",
   "version": "3.6.5"
  }
 },
 "nbformat": 4,
 "nbformat_minor": 2
}
