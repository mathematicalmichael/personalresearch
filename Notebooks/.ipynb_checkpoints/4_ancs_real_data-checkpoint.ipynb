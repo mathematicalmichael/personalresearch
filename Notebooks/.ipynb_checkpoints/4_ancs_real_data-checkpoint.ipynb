{
 "cells": [
  {
   "cell_type": "code",
   "execution_count": 1,
   "metadata": {},
   "outputs": [],
   "source": [
    "import numpy as np\n",
    "import scipy as scipy\n",
    "from scipy.optimize import minimize\n",
    "import timeit"
   ]
  },
  {
   "cell_type": "markdown",
   "metadata": {},
   "source": [
    "# Try Solving 4 Ancestry problem, multiple SNPs\n",
    "\n",
    "In this notebook we attempt to solve the following constrained, quadratic optimization problem:\n",
    "\n",
    "$$\\min_{\\pi \\in \\mathbb{R}^4} f(\\pi)=\\sum_{i=1}^{N}(a_{1,i}\\pi_1+a_{2,i}\\pi_2+a_{3,i}\\pi_3+a_{4,i}\\pi_4-\\tilde{a}_i)^2$$\n",
    "\n",
    "$$\\text{subject to:} \\quad \\pi_1+\\pi_2+\\pi_3+\\pi_4=1 \\quad \\pi_1\\geq 0 \\quad \\pi_2 \\geq 0 \\quad \\pi_3 \\geq 0 \\quad \\pi_4 \\geq 0,$$\n",
    "\n",
    "where $a_{j,i} \\in \\mathbb{R}$, $j=1,2,3,4$; $i=1,\\ldots N$ and $\\tilde{a}_i \\in \\mathbb{R}$, $i =1, \\ldots, N$ are quantities obtained from a genetics simulation. The $a_{1,i}$'s correspond to the observed allele frequency in ancestry 1; the $a_{2,i}$'s correspond to the observed allele frequency in ancestry 2; the $a_{3,i}$'s correspond to the observed allele frequency in ancestry 3; the $a_{4,i}$'s correspond to the observed allele frequency in ancestry 4; the $\\tilde{a}_i$'s corespond to the observed  total allele frequency in the population. Here, $N$ is the number of SNPs."
   ]
  },
  {
   "cell_type": "code",
   "execution_count": 3,
   "metadata": {},
   "outputs": [
    {
     "data": {
      "text/html": [
       "<div>\n",
       "<style scoped>\n",
       "    .dataframe tbody tr th:only-of-type {\n",
       "        vertical-align: middle;\n",
       "    }\n",
       "\n",
       "    .dataframe tbody tr th {\n",
       "        vertical-align: top;\n",
       "    }\n",
       "\n",
       "    .dataframe thead th {\n",
       "        text-align: right;\n",
       "    }\n",
       "</style>\n",
       "<table border=\"1\" class=\"dataframe\">\n",
       "  <thead>\n",
       "    <tr style=\"text-align: right;\">\n",
       "      <th></th>\n",
       "      <th>CHR</th>\n",
       "      <th>SNP</th>\n",
       "      <th>CEU_MAF</th>\n",
       "      <th>afr_MAF</th>\n",
       "      <th>sas_MAF</th>\n",
       "      <th>eas_MAF</th>\n",
       "      <th>af</th>\n",
       "    </tr>\n",
       "  </thead>\n",
       "  <tbody>\n",
       "    <tr>\n",
       "      <th>0</th>\n",
       "      <td>1</td>\n",
       "      <td>rs1000364</td>\n",
       "      <td>0.3939</td>\n",
       "      <td>0.070438</td>\n",
       "      <td>0.423307</td>\n",
       "      <td>0.384912</td>\n",
       "      <td>0.32305</td>\n",
       "    </tr>\n",
       "    <tr>\n",
       "      <th>1</th>\n",
       "      <td>1</td>\n",
       "      <td>rs1002655</td>\n",
       "      <td>0.3434</td>\n",
       "      <td>0.230153</td>\n",
       "      <td>0.468285</td>\n",
       "      <td>0.350196</td>\n",
       "      <td>0.34735</td>\n",
       "    </tr>\n",
       "    <tr>\n",
       "      <th>2</th>\n",
       "      <td>1</td>\n",
       "      <td>rs1008082</td>\n",
       "      <td>0.2828</td>\n",
       "      <td>0.082341</td>\n",
       "      <td>0.236197</td>\n",
       "      <td>0.112097</td>\n",
       "      <td>0.18235</td>\n",
       "    </tr>\n",
       "    <tr>\n",
       "      <th>3</th>\n",
       "      <td>1</td>\n",
       "      <td>rs10082057</td>\n",
       "      <td>0.0000</td>\n",
       "      <td>0.181558</td>\n",
       "      <td>0.000000</td>\n",
       "      <td>0.000000</td>\n",
       "      <td>0.04630</td>\n",
       "    </tr>\n",
       "    <tr>\n",
       "      <th>4</th>\n",
       "      <td>1</td>\n",
       "      <td>rs10082123</td>\n",
       "      <td>0.1515</td>\n",
       "      <td>0.230183</td>\n",
       "      <td>0.220848</td>\n",
       "      <td>0.227184</td>\n",
       "      <td>0.21080</td>\n",
       "    </tr>\n",
       "  </tbody>\n",
       "</table>\n",
       "</div>"
      ],
      "text/plain": [
       "   CHR         SNP  CEU_MAF   afr_MAF   sas_MAF   eas_MAF       af\n",
       "0    1   rs1000364   0.3939  0.070438  0.423307  0.384912  0.32305\n",
       "1    1   rs1002655   0.3434  0.230153  0.468285  0.350196  0.34735\n",
       "2    1   rs1008082   0.2828  0.082341  0.236197  0.112097  0.18235\n",
       "3    1  rs10082057   0.0000  0.181558  0.000000  0.000000  0.04630\n",
       "4    1  rs10082123   0.1515  0.230183  0.220848  0.227184  0.21080"
      ]
     },
     "execution_count": 3,
     "metadata": {},
     "output_type": "execute_result"
    }
   ],
   "source": [
    "import os\n",
    "import pandas as pd\n",
    "\n",
    "### change the current working directory\n",
    "os.chdir('/nfs/storage/math/gross-s2/projects/mixtures/example_sims/')\n",
    "\n",
    "### read in the data\n",
    "ev = pd.read_csv(\"Afr_CEU_sas_eas_10000tot_2500Afr_2500sas_2500eas_sims_and_reference.txt\", sep='\\t')\n",
    "\n",
    "ev.head(5) ### look at the first 5 rows"
   ]
  },
  {
   "cell_type": "markdown",
   "metadata": {},
   "source": [
    "### For the data set we are considering here, the \"answer\" is $\\pi_1=\\pi_2=\\pi_3=\\pi_4=0.25.$"
   ]
  },
  {
   "cell_type": "code",
   "execution_count": 13,
   "metadata": {},
   "outputs": [
    {
     "name": "stdout",
     "output_type": "stream",
     "text": [
      "number of SNPs is 61857\n"
     ]
    }
   ],
   "source": [
    "# Collect the SNPS\n",
    "# These are each of the columns above\n",
    "\n",
    "a_1 = ev['CEU_MAF']\n",
    "a_2 = ev['afr_MAF']\n",
    "a_3 = ev['sas_MAF']\n",
    "a_4 = ev['eas_MAF']\n",
    "a_t = ev['af']\n",
    "\n",
    "print('number of SNPs is', np.shape(a_t)[0])"
   ]
  },
  {
   "cell_type": "code",
   "execution_count": 14,
   "metadata": {},
   "outputs": [],
   "source": [
    "# This is the objective function!\n",
    "\n",
    "def function(x):\n",
    "    return np.sum((a_1*x[0]+a_2*x[1]+a_3*x[2]+a_4*x[3]-a_t)**2,axis=0)"
   ]
  },
  {
   "cell_type": "code",
   "execution_count": 15,
   "metadata": {},
   "outputs": [
    {
     "name": "stdout",
     "output_type": "stream",
     "text": [
      "122.44679373681608\n"
     ]
    }
   ],
   "source": [
    "# This is a feasible initial point since its components add to 1 and are positive.\n",
    "\n",
    "x_t=np.array((.5,.5,0,0))\n",
    "\n",
    "# Make sure function works by computing f(x_t)\n",
    "\n",
    "print(function(x_t))"
   ]
  },
  {
   "cell_type": "code",
   "execution_count": 16,
   "metadata": {},
   "outputs": [],
   "source": [
    "# Here is the gradient of the objective function\n",
    "\n",
    "def gradfun(x):\n",
    "    return np.array((np.sum(2*a_1*(a_1*x[0]+a_2*x[1]+a_3*x[2]+a_4*x[3]-a_t),axis=0),\n",
    "                     np.sum(2*a_2*(a_1*x[0]+a_2*x[1]+a_3*x[2]+a_4*x[3]-a_t),axis=0),\n",
    "                     np.sum(2*a_3*(a_1*x[0]+a_2*x[1]+a_3*x[2]+a_4*x[3]-a_t),axis=0),\n",
    "                     np.sum(2*a_4*(a_1*x[0]+a_2*x[1]+a_3*x[2]+a_4*x[3]-a_t),axis=0)))"
   ]
  },
  {
   "cell_type": "code",
   "execution_count": 17,
   "metadata": {},
   "outputs": [
    {
     "name": "stdout",
     "output_type": "stream",
     "text": [
      "[  38.07593473  394.85521771 -183.12325218 -361.33064559] [-0.42752437 -0.25613023 -0.27734046 -0.36168826]\n"
     ]
    }
   ],
   "source": [
    "print(gradfun(x_t), gradfun(np.array((.25,.25,.25,.25))))"
   ]
  },
  {
   "cell_type": "markdown",
   "metadata": {},
   "source": [
    "## SLSQP"
   ]
  },
  {
   "cell_type": "code",
   "execution_count": 11,
   "metadata": {},
   "outputs": [],
   "source": [
    "cons = ({'type': 'eq', 'fun': lambda x:  x[0] + x[1] + x[2] + x[3] -1},\n",
    "        {'type': 'ineq', 'fun': lambda x: x[0]},\n",
    "        {'type': 'ineq', 'fun': lambda x: x[1]},\n",
    "        {'type': 'ineq', 'fun': lambda x: x[2]},\n",
    "        {'type': 'ineq', 'fun': lambda x: x[3]})\n",
    "\n",
    "bnds = ((0, None), (0, None), (0, None), (0, None))"
   ]
  },
  {
   "cell_type": "code",
   "execution_count": 12,
   "metadata": {},
   "outputs": [
    {
     "name": "stdout",
     "output_type": "stream",
     "text": [
      "     fun: 0.2792200117148072\n",
      "     jac: array([-0.37543218, -0.37542445, -0.37543093, -0.37543524])\n",
      " message: 'Optimization terminated successfully.'\n",
      "    nfev: 13\n",
      "     nit: 8\n",
      "    njev: 8\n",
      "  status: 0\n",
      " success: True\n",
      "       x: array([0.25022466, 0.24995787, 0.24973761, 0.25007985])\n",
      "Time:  0.05441038706339896\n"
     ]
    }
   ],
   "source": [
    "start = timeit.default_timer()\n",
    "\n",
    "print(scipy.optimize.minimize(function, x_t, method='SLSQP', jac=gradfun, bounds=bnds, constraints=cons, tol=1e-10))\n",
    "\n",
    "stop = timeit.default_timer()\n",
    "\n",
    "print('Time: ', stop - start)"
   ]
  },
  {
   "cell_type": "code",
   "execution_count": null,
   "metadata": {},
   "outputs": [],
   "source": []
  }
 ],
 "metadata": {
  "kernelspec": {
   "display_name": "Python 3",
   "language": "python",
   "name": "python3"
  },
  "language_info": {
   "codemirror_mode": {
    "name": "ipython",
    "version": 3
   },
   "file_extension": ".py",
   "mimetype": "text/x-python",
   "name": "python",
   "nbconvert_exporter": "python",
   "pygments_lexer": "ipython3",
   "version": "3.6.5"
  }
 },
 "nbformat": 4,
 "nbformat_minor": 2
}
