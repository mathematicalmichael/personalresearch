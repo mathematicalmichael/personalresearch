{
 "cells": [
  {
   "cell_type": "markdown",
   "metadata": {},
   "source": [
    "## MS Example 2: Additive Noise, Surrogate-Based Methods"
   ]
  },
  {
   "cell_type": "code",
   "execution_count": 1,
   "metadata": {},
   "outputs": [],
   "source": [
    "import numpy as np\n",
    "import dfo_v1 as dfo\n",
    "import ECNoise as ECN\n",
    "import active_subspaces as ac\n",
    "import matplotlib.pyplot as plt"
   ]
  },
  {
   "cell_type": "markdown",
   "metadata": {},
   "source": [
    "We let $f: \\mathbf{\\lambda}: \\mathbb{R}^{11} \\to \\mathbb{R}$, where $$f(\\lambda; \\xi)=\\sum_{i=0}^{10} 2^{(-1)^i i}\\lambda_i^2+\\epsilon(\\xi), \\quad \\epsilon(\\xi) \\sim U[-k,k], \\quad k=1 \\times 10^{-2}.$$"
   ]
  },
  {
   "cell_type": "code",
   "execution_count": 2,
   "metadata": {},
   "outputs": [
    {
     "name": "stdout",
     "output_type": "stream",
     "text": [
      "[[1.000000e+00 5.000000e-01 4.000000e+00 1.250000e-01 1.600000e+01\n",
      "  3.125000e-02 6.400000e+01 7.812500e-03 2.560000e+02 1.953125e-03\n",
      "  1.024000e+03]]\n"
     ]
    }
   ],
   "source": [
    "k=1E-2\n",
    "\n",
    "dim=11\n",
    "\n",
    "weights=np.zeros((1,dim)) # row vec to make IP easy\n",
    "for i in range(dim):\n",
    "    weights[:,i]=2**(((-1)**i)*i)\n",
    "\n",
    "def tfun(x,var=k):\n",
    "    y=np.copy(x)\n",
    "    y=y**2   \n",
    "    return np.dot(weights,y) +k*(2*np.random.rand()-1)\n",
    "\n",
    "print(weights)"
   ]
  },
  {
   "cell_type": "markdown",
   "metadata": {},
   "source": [
    "## Sample 100 random draws in $\\Lambda$, build a surrogate, minimize"
   ]
  },
  {
   "cell_type": "code",
   "execution_count": 3,
   "metadata": {},
   "outputs": [
    {
     "name": "stdout",
     "output_type": "stream",
     "text": [
      "(11, 100) [[-0.32593701]\n",
      " [-0.21608498]\n",
      " [-0.87257657]\n",
      " [ 0.14474341]\n",
      " [ 0.58614319]\n",
      " [ 0.9128621 ]\n",
      " [ 0.39189547]\n",
      " [-0.49491058]\n",
      " [ 0.30163974]\n",
      " [ 0.29091554]\n",
      " [-0.2656942 ]]\n"
     ]
    }
   ],
   "source": [
    "# Perform draws\n",
    "n_samps=100\n",
    "\n",
    "X=np.random.rand(dim,n_samps)\n",
    "samps=2*X-1\n",
    "print(samps.shape,samps[:,0:1])"
   ]
  },
  {
   "cell_type": "code",
   "execution_count": 4,
   "metadata": {},
   "outputs": [
    {
     "name": "stdout",
     "output_type": "stream",
     "text": [
      "(100, 1)\n"
     ]
    }
   ],
   "source": [
    "# Compute the f values\n",
    "\n",
    "f_vals=np.zeros((n_samps,1))\n",
    "\n",
    "for i in range(n_samps):\n",
    "    \n",
    "    f_vals[i] = tfun(samps[:,i:i+1])\n",
    "    \n",
    "print(f_vals.shape)\n",
    "    "
   ]
  },
  {
   "cell_type": "code",
   "execution_count": 5,
   "metadata": {},
   "outputs": [
    {
     "name": "stdout",
     "output_type": "stream",
     "text": [
      "n should be an integer. Performing conversion.\n",
      "[[ 1.02247668e-06]\n",
      " [ 7.56207097e-07]\n",
      " [ 2.70969315e-07]\n",
      " [ 1.83826873e-06]\n",
      " [ 2.63428850e-06]\n",
      " [-1.77039643e-06]\n",
      " [-2.18238293e-06]\n",
      " [ 1.89379893e-06]\n",
      " [-2.41390836e-08]\n",
      " [ 3.58277741e-07]\n",
      " [-1.00000000e+00]]\n",
      "\n",
      "[[1.39812345e+06]\n",
      " [8.73747181e+04]\n",
      " [5.46160631e+03]\n",
      " [3.41343151e+02]\n",
      " [2.11964016e+01]\n",
      " [1.32406004e+00]\n",
      " [3.24596994e-01]\n",
      " [2.02120406e-02]\n",
      " [1.64129732e-03]\n",
      " [7.32684535e-05]\n",
      " [2.82728241e-05]]\n"
     ]
    }
   ],
   "source": [
    "ss = ac.subspaces.Subspaces()\n",
    "\n",
    "trainx=np.transpose(samps)\n",
    "\n",
    "# Use Local Linears\n",
    "#df = ac.gradients.local_linear_gradients(trainx, f_vals) #Estimated gradients using local linear models\n",
    "#ss.compute(df=df, nboot=0)\n",
    "\n",
    "# Use Global Quadratic\n",
    "ss.compute(X=trainx, f=f_vals, nboot=0, sstype='QPHD')\n",
    "\n",
    "\n",
    "RS=ac.utils.response_surfaces.PolynomialApproximation(2)\n",
    "    \n",
    "y1 = trainx.dot(ss.W1)\n",
    "    \n",
    "RS.train(y1, f_vals)\n",
    "\n",
    "print(ss.W1)\n",
    "\n",
    "print()\n",
    "\n",
    "print(ss.eigenvals)"
   ]
  },
  {
   "cell_type": "code",
   "execution_count": 6,
   "metadata": {},
   "outputs": [
    {
     "name": "stdout",
     "output_type": "stream",
     "text": [
      "[[0.00230222]] [[112.65610893]] 0.9402340418844396\n"
     ]
    }
   ],
   "source": [
    "avdom=ac.domains.BoundedActiveVariableDomain(ss)\n",
    "    \n",
    "ystar, fstar = ac.optimizers.av_minimize(lambda x: RS.predict(x.reshape(1,1))[0], avdom)\n",
    "\n",
    "print(ystar,fstar,RS.Rsqr)"
   ]
  }
 ],
 "metadata": {
  "kernelspec": {
   "display_name": "Python 3",
   "language": "python",
   "name": "python3"
  },
  "language_info": {
   "codemirror_mode": {
    "name": "ipython",
    "version": 3
   },
   "file_extension": ".py",
   "mimetype": "text/x-python",
   "name": "python",
   "nbconvert_exporter": "python",
   "pygments_lexer": "ipython3",
   "version": "3.6.5"
  }
 },
 "nbformat": 4,
 "nbformat_minor": 2
}
