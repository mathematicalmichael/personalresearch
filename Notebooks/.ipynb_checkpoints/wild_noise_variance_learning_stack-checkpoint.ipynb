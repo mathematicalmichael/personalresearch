{
 "cells": [
  {
   "cell_type": "code",
   "execution_count": 57,
   "metadata": {},
   "outputs": [],
   "source": [
    "# Import needed packages\n",
    "import numpy as np"
   ]
  },
  {
   "cell_type": "code",
   "execution_count": 97,
   "metadata": {},
   "outputs": [],
   "source": [
    "# Define a noisy test function\n",
    "\n",
    "# Noise level\n",
    "k=1e-5\n",
    "\n",
    "# Parameters in test function\n",
    "A = 100 # alpha\n",
    "B = 10 # beta\n",
    "C = .1 # gamma\n",
    "\n",
    "# A mix of quadratics with vertical shift of 9; can be defined from R^p -> R for any p>=6.\n",
    "# The noise is a draw from U[-k,k] and is modeled in an additive fashion\n",
    "def function1(a):\n",
    "    x = a[0]; y = a[1]; z = a[2]; w = a[3]; p = a[4]; q = a[5]; \n",
    "    f = (A*(x+y)**2+B*(z+w)**2+C*(p+q)**2+9) # this is the true value of f\n",
    "    f_pert = f + k*(2*np.random.rand(1) -1) # this is the noisy, perturbed value of f\n",
    "    return f_pert[0]"
   ]
  },
  {
   "cell_type": "code",
   "execution_count": 98,
   "metadata": {},
   "outputs": [
    {
     "name": "stdout",
     "output_type": "stream",
     "text": [
      "449.399997983\n"
     ]
    }
   ],
   "source": [
    "# Make sure the function works!\n",
    "\n",
    "print(function1(np.ones((16,1))))"
   ]
  },
  {
   "cell_type": "code",
   "execution_count": 99,
   "metadata": {},
   "outputs": [
    {
     "name": "stdout",
     "output_type": "stream",
     "text": [
      "3.33333333333e-11\n"
     ]
    }
   ],
   "source": [
    "# what's our answer?\n",
    "# ie: we are trying to estimate the variance in the noise\n",
    "# which is given by 1/12(k - -k)^2 = 1/12(2k)^2\n",
    "\n",
    "correct_var= (1./12)*(2*k)**2 # computes the variance of U[-k,k]\n",
    "print(correct_var)"
   ]
  },
  {
   "cell_type": "code",
   "execution_count": 100,
   "metadata": {},
   "outputs": [],
   "source": [
    "# Initialize difference table which is M x M\n",
    "# M is number of points to be sampled along some curve and evaluated under f(.)\n",
    "\n",
    "M=15\n",
    "\n",
    "T = np.zeros((M,M))"
   ]
  },
  {
   "cell_type": "code",
   "execution_count": 101,
   "metadata": {},
   "outputs": [],
   "source": [
    "# Choose a base point:\n",
    "# ie: the first point on the curve\n",
    "x_b = np.ones((16,1))\n",
    "\n",
    "# Choose a direction to sample in, and normalize it:\n",
    "p_u = np.ones((16,1))\n",
    "p = p_u/np.linalg.norm(p_u)"
   ]
  },
  {
   "cell_type": "code",
   "execution_count": 102,
   "metadata": {},
   "outputs": [],
   "source": [
    "# Form difference table T\n",
    "\n",
    "for i in range(0,M):\n",
    "    T[i,0] = function1(x_b + (i/M)*p)\n",
    "\n",
    "for j in range(0,M-1):\n",
    "    for i in range(0,M-j-1):\n",
    "        T[i,j+1] = T[i+1,j] - T[i,j]"
   ]
  },
  {
   "cell_type": "code",
   "execution_count": 103,
   "metadata": {},
   "outputs": [
    {
     "name": "stdout",
     "output_type": "stream",
     "text": [
      "[[  4.49399993e+02   3.47854365e-06   3.85320300e-06]\n",
      " [  4.49399996e+02   7.33174664e-06  -4.42248881e-06]\n",
      " [  4.49400004e+02   2.90925783e-06  -2.08514075e-06]\n",
      " [  4.49400007e+02   8.24117080e-07  -1.54125754e-05]\n",
      " [  4.49400007e+02  -1.45884583e-05   2.28393965e-05]\n",
      " [  4.49399993e+02   8.25093827e-06  -2.34205208e-06]\n",
      " [  4.49400001e+02   5.90888618e-06  -3.36617597e-06]\n",
      " [  4.49400007e+02   2.54271021e-06  -1.04607767e-05]\n",
      " [  4.49400010e+02  -7.91806650e-06   1.08279249e-05]\n",
      " [  4.49400002e+02   2.90985838e-06  -5.23713783e-06]\n",
      " [  4.49400005e+02  -2.32727945e-06  -7.46191523e-06]\n",
      " [  4.49400002e+02  -9.78919468e-06   2.48283414e-05]\n",
      " [  4.49399992e+02   1.50391467e-05  -2.87484067e-05]\n",
      " [  4.49400007e+02  -1.37092600e-05   0.00000000e+00]\n",
      " [  4.49399994e+02   0.00000000e+00   0.00000000e+00]]\n"
     ]
    }
   ],
   "source": [
    "# The first column of T gives the function values at points along the curve\n",
    "# The second column of T gives the first differences of f, f(x_{i+i}) - f(x_i)\n",
    "# etc.\n",
    "print(T[:,0:3]) # take a look at T"
   ]
  },
  {
   "cell_type": "code",
   "execution_count": 104,
   "metadata": {},
   "outputs": [],
   "source": [
    "# Make a row vector to store the k-level estimators (sigma_k^2) \n",
    "# ie: Initialize empty vector for storage, row vector for readability\n",
    "\n",
    "S = np.zeros((1,M))"
   ]
  },
  {
   "cell_type": "code",
   "execution_count": 105,
   "metadata": {},
   "outputs": [],
   "source": [
    "# Build S according to paper; each k-th component of S is the k-th level estimator for the variance in our noise\n",
    "# which is computed using a scaled average of the k-th level difference values, from the difference table T\n",
    "\n",
    "for i in range(1,M):\n",
    "    S[0,i] = ((np.math.factorial(i)**2.)/np.math.factorial(2*i))*(1./(M-i))*np.sum(T[:,i]**2,axis=0)\n",
    "\n",
    "S=S[:,1:] # Don't need the first column (because first col. of T just holds function values!)"
   ]
  },
  {
   "cell_type": "code",
   "execution_count": 106,
   "metadata": {},
   "outputs": [
    {
     "name": "stdout",
     "output_type": "stream",
     "text": [
      "[[  3.51359461e-11   3.29160548e-11   2.92901874e-11   2.41812756e-11\n",
      "    1.98708928e-11   1.75104194e-11   1.70612398e-11   1.76230678e-11\n",
      "    1.81647908e-11   1.82459975e-11   1.80454733e-11   1.79316539e-11\n",
      "    1.81257389e-11   1.86296915e-11]]\n"
     ]
    }
   ],
   "source": [
    "print(S)"
   ]
  },
  {
   "cell_type": "code",
   "execution_count": 107,
   "metadata": {},
   "outputs": [],
   "source": [
    "# How did we do?\n",
    "# ie: compute a vector of relative errors between correct variance and k-th level estimator\n",
    "\n",
    "E = np.zeros((1,M-1))\n",
    "for i in range(0,M-1):\n",
    "    E[0,i] = (1./correct_var)*abs(S[0,i] - correct_var)"
   ]
  },
  {
   "cell_type": "code",
   "execution_count": 108,
   "metadata": {},
   "outputs": [
    {
     "name": "stdout",
     "output_type": "stream",
     "text": [
      "[[ 0.05407838  0.01251836  0.12129438  0.27456173  0.40387321  0.47468742\n",
      "   0.48816281  0.47130797  0.45505627  0.45262007  0.4586358   0.46205038\n",
      "   0.45622783  0.44110925]]\n"
     ]
    }
   ],
   "source": [
    "print(E)"
   ]
  },
  {
   "cell_type": "code",
   "execution_count": 109,
   "metadata": {},
   "outputs": [
    {
     "name": "stdout",
     "output_type": "stream",
     "text": [
      "(2, 0.012518355311178548)\n"
     ]
    }
   ],
   "source": [
    "# Print the level, k, of the estimator with smallest relative error, and print the error\n",
    "\n",
    "print(np.argmin(E) + 1, np.min(E)) # need to add 1 because the 0-th entry is actually the first difference level, etc."
   ]
  }
 ],
 "metadata": {
  "kernelspec": {
   "display_name": "Python 3",
   "language": "python",
   "name": "python3"
  },
  "language_info": {
   "codemirror_mode": {
    "name": "ipython",
    "version": 3
   },
   "file_extension": ".py",
   "mimetype": "text/x-python",
   "name": "python",
   "nbconvert_exporter": "python",
   "pygments_lexer": "ipython3",
   "version": "3.6.5"
  }
 },
 "nbformat": 4,
 "nbformat_minor": 2
}
