{
 "cells": [
  {
   "cell_type": "code",
   "execution_count": 1,
   "metadata": {},
   "outputs": [],
   "source": [
    "import numpy as np\n",
    "import scipy as scipy\n",
    "from scipy.optimize import minimize\n",
    "import timeit"
   ]
  },
  {
   "cell_type": "markdown",
   "metadata": {},
   "source": [
    "# Try Solving 6 Ancestry problem, multiple SNPs\n",
    "\n",
    "In this notebook we attempt to solve the following constrained, quadratic optimization problem:\n",
    "\n",
    "$$\\min_{\\pi \\in \\mathbb{R}^6} f(\\pi)=\\sum_{i=1}^{N}(a_{1,i}\\pi_1+a_{2,i}\\pi_2+a_{3,i}\\pi_3+a_{4,i}\\pi_4+a_{5,i}\\pi_5+a_{6,i}\\pi_6-\\tilde{a}_i)^2$$\n",
    "\n",
    "$$\\text{subject to:} \\quad \\pi_1+\\pi_2+\\pi_3+\\pi_4+\\pi_5+\\pi_6=1 \\quad \\pi_1\\geq 0 \\quad \\pi_2 \\geq 0 \\quad \\pi_3 \\geq 0 \\quad \\pi_4 \\geq 0 \\quad \\pi_5 \\geq 0 \\quad \\pi_6 \\geq 0,$$\n",
    "\n",
    "where $a_{j,i} \\in \\mathbb{R}$, $j=1,2,3,4,5,6$; $i=1,\\ldots N$ and $\\tilde{a}_i \\in \\mathbb{R}$, $i =1, \\ldots, N$ are quantities obtained from a genetics simulation. The $a_{1,i}$'s correspond to the observed allele frequency in ancestry 1; the $a_{2,i}$'s correspond to the observed allele frequency in ancestry 2; the $a_{3,i}$'s correspond to the observed allele frequency in ancestry 3; the $a_{4,i}$'s correspond to the observed allele frequency in ancestry 4; the $a_{5,i}$'s correspond to the observed allele frequency in ancestry 5; the $a_{6,i}$'s correspond to the observed allele frequency in ancestry 6; the $\\tilde{a}_i$'s corespond to the observed  total allele frequency in the population. Here, $N$ is the number of SNPs."
   ]
  },
  {
   "cell_type": "code",
   "execution_count": 2,
   "metadata": {},
   "outputs": [],
   "source": [
    "# Simulate 10^6 SNPS\n",
    "\n",
    "\n",
    "M=1000000\n",
    "\n",
    "a_1 = np.random.uniform(low=0, high=0.6, size=(M,1))\n",
    "a_2 = np.random.uniform(low=0.2, high=0.5, size=(M,1))\n",
    "a_3 = np.random.uniform(low=0.1, high=0.5, size=(M,1))\n",
    "a_4 = np.random.uniform(low=0, high=0.5, size=(M,1))\n",
    "a_5 = np.random.uniform(low=0.1, high=0.5, size=(M,1))\n",
    "a_6 = np.random.uniform(low=0.1, high=0.6, size=(M,1))\n",
    "a_t = .155*a_1 + .245*a_2 +.3*a_3+.2*a_4 +.01*a_5+.09*a_6\n",
    "# By choosing the mixing proportions, this makes the \"answer\" pi_1=.155, pi_2=.245, pi_3=.3, pi_4=.2, pi_5=.01, pi_6=.09"
   ]
  },
  {
   "cell_type": "code",
   "execution_count": 3,
   "metadata": {},
   "outputs": [],
   "source": [
    "# This is the objective function!\n",
    "\n",
    "def function(x):\n",
    "    return np.sum((a_1*x[0]+a_2*x[1]+a_3*x[2]+a_4*x[3]+a_5*x[4]+a_6*x[5]-a_t)**2,axis=0)"
   ]
  },
  {
   "cell_type": "code",
   "execution_count": 4,
   "metadata": {},
   "outputs": [
    {
     "name": "stdout",
     "output_type": "stream",
     "text": [
      "[762.12661185]\n"
     ]
    }
   ],
   "source": [
    "# This is a feasible initial point since its components add to 1 and are positive.\n",
    "\n",
    "x_t=np.array((1/6,1/6,1/6,1/6,1/6,1/6))\n",
    "\n",
    "# Make sure function works by computing f(x_t)\n",
    "\n",
    "print(function(x_t))"
   ]
  },
  {
   "cell_type": "code",
   "execution_count": 5,
   "metadata": {},
   "outputs": [],
   "source": [
    "# Here is the gradient of the objective function\n",
    "\n",
    "\n",
    "\n",
    "def gradfun(x):\n",
    "    return np.array((np.sum(2*a_1*(a_1*x[0]+a_2*x[1]+a_3*x[2]+a_4*x[3]+a_5*x[4]+a_6*x[5]-a_t),axis=0),\n",
    "                     np.sum(2*a_2*(a_1*x[0]+a_2*x[1]+a_3*x[2]+a_4*x[3]+a_5*x[4]+a_6*x[5]-a_t),axis=0),\n",
    "                     np.sum(2*a_3*(a_1*x[0]+a_2*x[1]+a_3*x[2]+a_4*x[3]+a_5*x[4]+a_6*x[5]-a_t),axis=0),\n",
    "                     np.sum(2*a_4*(a_1*x[0]+a_2*x[1]+a_3*x[2]+a_4*x[3]+a_5*x[4]+a_6*x[5]-a_t),axis=0),\n",
    "                     np.sum(2*a_5*(a_1*x[0]+a_2*x[1]+a_3*x[2]+a_4*x[3]+a_5*x[4]+a_6*x[5]-a_t),axis=0),\n",
    "                     np.sum(2*a_6*(a_1*x[0]+a_2*x[1]+a_3*x[2]+a_4*x[3]+a_5*x[4]+a_6*x[5]-a_t),axis=0)))"
   ]
  },
  {
   "cell_type": "code",
   "execution_count": 7,
   "metadata": {},
   "outputs": [
    {
     "name": "stdout",
     "output_type": "stream",
     "text": [
      "[[0.]\n",
      " [0.]\n",
      " [0.]\n",
      " [0.]\n",
      " [0.]\n",
      " [0.]]\n"
     ]
    }
   ],
   "source": [
    "#print(gradfun(x_t))\n",
    "print(gradfun((.155,.245,.3,.2,.01,.09)))"
   ]
  },
  {
   "cell_type": "markdown",
   "metadata": {},
   "source": [
    "## SLSQP"
   ]
  },
  {
   "cell_type": "code",
   "execution_count": 8,
   "metadata": {},
   "outputs": [],
   "source": [
    "cons = ({'type': 'eq', 'fun': lambda x:  x[0] + x[1] + x[2] + x[3] + x[4] +x[5] -1},\n",
    "        {'type': 'ineq', 'fun': lambda x: x[0]},\n",
    "        {'type': 'ineq', 'fun': lambda x: x[1]},\n",
    "        {'type': 'ineq', 'fun': lambda x: x[2]},\n",
    "        {'type': 'ineq', 'fun': lambda x: x[3]},\n",
    "        {'type': 'ineq', 'fun': lambda x: x[4]},\n",
    "        {'type': 'ineq', 'fun': lambda x: x[5]})\n",
    "\n",
    "bnds = ((0, None), (0, None), (0, None), (0, None), (0, None), (0, None))"
   ]
  },
  {
   "cell_type": "code",
   "execution_count": 9,
   "metadata": {},
   "outputs": [
    {
     "name": "stdout",
     "output_type": "stream",
     "text": [
      "     fun: 2.1727026150832452e-08\n",
      "     jac: array([ 0.0115041 ,  0.00748416, -0.01612227,  0.00321824, -0.00248198,\n",
      "       -0.03561416])\n",
      " message: 'Optimization terminated successfully.'\n",
      "    nfev: 29\n",
      "     nit: 16\n",
      "    njev: 16\n",
      "  status: 0\n",
      " success: True\n",
      "       x: array([0.15500025, 0.24500078, 0.29999953, 0.20000015, 0.01000004,\n",
      "       0.08999925])\n",
      "Time:  14.22674647955204\n"
     ]
    }
   ],
   "source": [
    "start = timeit.default_timer()\n",
    "\n",
    "print(scipy.optimize.minimize(function, x_t, method='SLSQP', jac=gradfun, bounds=bnds, constraints=cons))\n",
    "\n",
    "stop = timeit.default_timer()\n",
    "\n",
    "print('Time: ', stop - start)"
   ]
  }
 ],
 "metadata": {
  "kernelspec": {
   "display_name": "Python 3",
   "language": "python",
   "name": "python3"
  },
  "language_info": {
   "codemirror_mode": {
    "name": "ipython",
    "version": 3
   },
   "file_extension": ".py",
   "mimetype": "text/x-python",
   "name": "python",
   "nbconvert_exporter": "python",
   "pygments_lexer": "ipython3",
   "version": "3.6.5"
  }
 },
 "nbformat": 4,
 "nbformat_minor": 2
}
