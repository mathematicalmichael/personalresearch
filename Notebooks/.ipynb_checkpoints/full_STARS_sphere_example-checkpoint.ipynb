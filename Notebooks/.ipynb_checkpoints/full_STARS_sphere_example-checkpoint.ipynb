{
 "cells": [
  {
   "cell_type": "code",
   "execution_count": 1,
   "metadata": {},
   "outputs": [],
   "source": [
    "# Import needed packages\n",
    "import numpy as np\n",
    "import matplotlib.pyplot as plt"
   ]
  },
  {
   "cell_type": "markdown",
   "metadata": {},
   "source": [
    "## Example: Noisy Sphere Function\n",
    "\n",
    "Let $f: R^N \\to R$ equal the sphere function; i.e., $$f(x; \\xi)=\\sum_{i=1}^N x_i^2 + \\epsilon (\\xi),$$ where $\\epsilon \\sim U[-k,k]$ is stoachastic additive noise with zero mean and bounded variance. Then we have $\\nabla f(x)=2x$ and one can show that $L_1^*=2$. This means that the value of $||\\nabla f(x) -\\nabla f(y)||$ will never be larger than twice the value of $2||x-y||$ which is obvious because $||\\nabla f(x) -\\nabla f(y)||$ literally equals $2||x-y||$."
   ]
  },
  {
   "cell_type": "code",
   "execution_count": 169,
   "metadata": {},
   "outputs": [
    {
     "name": "stdout",
     "output_type": "stream",
     "text": [
      "Noisy sphere function evaluated at x_test is 8.008579884812791 and the error-free value is 8\n"
     ]
    }
   ],
   "source": [
    "# Define sphere function with additive noise\n",
    "\n",
    "# Noise level\n",
    "k=1e-2\n",
    "\n",
    "def sphere(x):\n",
    "    x=x**2\n",
    "    return (np.sum(x, axis=0) + k*(2*np.random.rand(1) - 1))[0]\n",
    "\n",
    "F=sphere # rename function as F due to other code\n",
    "\n",
    "N=4 # this is the dimension of the inputs!\n",
    "\n",
    "x_test=np.sqrt(2)*np.ones(N)\n",
    "\n",
    "print('Noisy sphere function evaluated at x_test is', F(x_test), 'and the error-free value is', 2*N)"
   ]
  },
  {
   "cell_type": "markdown",
   "metadata": {},
   "source": [
    "### STEP 1: Estimate the standard deviation of the noise, $\\sigma_\\epsilon^2$\n",
    "\n",
    "Since $\\epsilon(\\cdot) \\sim U[-k,k]$, the variance in the rv $\\epsilon(\\cdot)$  is $\\sigma_\\epsilon ^2 = k^2/3$. The below implementation of EC Noise (Chen & More) will form estimators to $\\sigma_\\epsilon^2 $."
   ]
  },
  {
   "cell_type": "code",
   "execution_count": 170,
   "metadata": {},
   "outputs": [
    {
     "name": "stdout",
     "output_type": "stream",
     "text": [
      "True variance is 3.3333333333333335e-05\n"
     ]
    }
   ],
   "source": [
    "# What's the right answer?\n",
    "\n",
    "correct_var=k**2/3\n",
    "\n",
    "print('True variance is', correct_var)"
   ]
  },
  {
   "cell_type": "code",
   "execution_count": 180,
   "metadata": {},
   "outputs": [],
   "source": [
    "# Initialize difference table which is M x M\n",
    "# M is number of points to be sampled along some curve and evaluated under f(.)\n",
    "\n",
    "M=6\n",
    "\n",
    "T = np.zeros((M,M))"
   ]
  },
  {
   "cell_type": "code",
   "execution_count": 181,
   "metadata": {},
   "outputs": [],
   "source": [
    "# Choose a base point:\n",
    "# ie: the first point on the curve\n",
    "x_b = np.ones((N,1))\n",
    "\n",
    "# Choose a direction to sample in, and normalize it:\n",
    "p_u = np.ones((N,1))\n",
    "p = p_u/np.linalg.norm(p_u)"
   ]
  },
  {
   "cell_type": "code",
   "execution_count": 182,
   "metadata": {},
   "outputs": [],
   "source": [
    "# Form difference table T\n",
    "\n",
    "for i in range(0,M):\n",
    "    T[i,0] = F(x_b + (i/M)*p)\n",
    "\n",
    "for j in range(0,M-1):\n",
    "    for i in range(0,M-j-1):\n",
    "        T[i,j+1] = T[i+1,j] - T[i,j]"
   ]
  },
  {
   "cell_type": "code",
   "execution_count": 183,
   "metadata": {},
   "outputs": [],
   "source": [
    "# Make a row vector to store the k-level estimators (sigma_k^2) \n",
    "# ie: Initialize empty vector for storage, row vector for readability\n",
    "\n",
    "S = np.zeros((1,M))"
   ]
  },
  {
   "cell_type": "code",
   "execution_count": 184,
   "metadata": {},
   "outputs": [],
   "source": [
    "# Build S according to paper; each k-th component of S is the k-th level estimator for the variance in our noise\n",
    "# which is computed using a scaled average of the k-th level difference values, from the difference table T\n",
    "\n",
    "for i in range(1,M):\n",
    "    S[0,i] = ((np.math.factorial(i)**2.)/np.math.factorial(2*i))*(1./(M-i))*np.sum(T[:,i]**2,axis=0)\n",
    "\n",
    "S=S[:,1:] # Don't need the first column (because first col. of T just holds function values!)"
   ]
  },
  {
   "cell_type": "code",
   "execution_count": 185,
   "metadata": {},
   "outputs": [
    {
     "name": "stdout",
     "output_type": "stream",
     "text": [
      "[[3.25819113e-01 5.37581940e-04 3.17486984e-05 3.29177844e-05\n",
      "  3.38672123e-05]]\n"
     ]
    }
   ],
   "source": [
    "# Print our estimators\n",
    "\n",
    "print(S)"
   ]
  },
  {
   "cell_type": "code",
   "execution_count": 186,
   "metadata": {},
   "outputs": [],
   "source": [
    "# How did we do?\n",
    "# ie: compute a vector of relative errors between correct variance and k-th level estimator\n",
    "\n",
    "E = np.zeros((1,M-1))\n",
    "for i in range(0,M-1):\n",
    "    E[0,i] = (1./correct_var)*abs(S[0,i] - correct_var)"
   ]
  },
  {
   "cell_type": "code",
   "execution_count": 187,
   "metadata": {},
   "outputs": [
    {
     "name": "stdout",
     "output_type": "stream",
     "text": [
      "3 3.291778437310853e-05\n"
     ]
    }
   ],
   "source": [
    "# Print the level, k, of the estimator with smallest relative error, and print the error\n",
    "key_index=np.argmin(E)\n",
    "print(key_index, S[0,key_index]) "
   ]
  },
  {
   "cell_type": "code",
   "execution_count": 188,
   "metadata": {},
   "outputs": [
    {
     "name": "stdout",
     "output_type": "stream",
     "text": [
      "3.291778437310853e-05\n",
      "[1.9706739e-05]\n"
     ]
    }
   ],
   "source": [
    "# Define our estimated variance as the best one\n",
    "\n",
    "est_var= S[0,key_index]\n",
    "print(est_var)\n",
    "\n",
    "another_estimator=np.sum(S[:,2:], axis=1)/(M-1)\n",
    "print(another_estimator)"
   ]
  },
  {
   "cell_type": "markdown",
   "metadata": {},
   "source": [
    "### STEP 2: Learn the $L_1$ Lipschitz constant\n",
    "\n",
    "We first compute a value $\\epsilon^*$ prescribed in a Callies paper which is a rough estimate of the the maximum contribution of error. For us, 3*(standard deviation) in the error will give an upper bound on 99.7% of error draws, on average."
   ]
  },
  {
   "cell_type": "code",
   "execution_count": 121,
   "metadata": {},
   "outputs": [
    {
     "data": {
      "text/plain": [
       "0.15804180953741195"
      ]
     },
     "execution_count": 121,
     "metadata": {},
     "output_type": "execute_result"
    }
   ],
   "source": [
    "std=est_var**0.5\n",
    "eps_star=3*std\n",
    "eps_star"
   ]
  },
  {
   "cell_type": "markdown",
   "metadata": {},
   "source": [
    "Now we need a heuristic estimate for $||f''(x_0)||$ and it can be a very rough upper bound -- Chen and More show this experimentally. The following is directly adapted from Algorithm 5.1 in More and Wild."
   ]
  },
  {
   "cell_type": "code",
   "execution_count": 122,
   "metadata": {},
   "outputs": [
    {
     "name": "stdout",
     "output_type": "stream",
     "text": [
      "1.7243162554310951\n"
     ]
    }
   ],
   "source": [
    "# Suggested parameters for an inequality we will test\n",
    "tao_1=100\n",
    "tao_2=0.1\n",
    "\n",
    "# We need a random draw\n",
    "x_0=10*(2*np.random.rand(N,1) - np.ones((N,1)))\n",
    "\n",
    "# Define an arbitrary unit vector\n",
    "unit_v=np.ones(N)/(N**(1/N))\n",
    "\n",
    "# Computes a centered finite difference to approximate f''\n",
    "# Stores all 3 function evaluations\n",
    "def Delta(h):\n",
    "    F_m=F(x_0 - h*unit_v)\n",
    "    F_0=F(x_0)\n",
    "    F_p=F(x_0 + h*unit_v)\n",
    "    return np.array((abs(F_p - 2*F_0 + F_m), F_m, F_0, F_p))\n",
    "\n",
    "# Name some of the things we just made\n",
    "h_a=std**0.25\n",
    "DD=Delta(h_a)\n",
    "D_h_a=DD[0]\n",
    "F_m_a=DD[1]\n",
    "F_0_a=DD[2]\n",
    "F_p_a=DD[3]\n",
    "\n",
    "# Our first candidate for ||f''||\n",
    "mu_a=D_h_a/(N*(h_a)**2)\n",
    "\n",
    "# The LHS and RHS from two inequalities we need to test\n",
    "LHS_1=abs(F_p_a-F_0_a)\n",
    "LHS_2=abs(F_m_a-F_0_a)\n",
    "RHS_1=tao_2*max(abs(F_0_a),abs(F_p_a))\n",
    "RHS_2=tao_2*max(abs(F_0_a),abs(F_m_a))\n",
    "\n",
    "# We will use our first guess mu_a, unless some inequalities fail\n",
    "# then we will use mu_b, an alternate guess scaled by mu_a\n",
    "if D_h_a/std>=tao_1 and LHS_1<=RHS_1 and LHS_2<=RHS_2:\n",
    "    mu_f2=mu_a\n",
    "else:\n",
    "    h_b=(std/mu_a)**0.25\n",
    "    mu_f2=Delta(h_b)[0]/h_b**2\n",
    "    \n",
    "print(mu_f2)"
   ]
  },
  {
   "cell_type": "markdown",
   "metadata": {},
   "source": [
    "Now we need estimates for the gradients at sample points, which are denoted $\\hat{\\nabla f (x_k)}$. We do so by evaluating the forward difference in each $i$-th component of a sample $x$ to approximate the $i$-th partial derivative of $f$ evaluated at $x$, $$\\frac{\\partial f}{\\partial x_i}(x)\\approx \\frac{f(x+ h^* \\cdot e_i)-f(x)}{h^*} \\quad h^*:=8^{1/4}\\left(\\frac{\\sigma}{\\mu_{f''}}\\right)^{1/2} \\quad \\mu_{f''} \\approx \\max |f''| \\quad e_i:=(0,\\ldots,0,1,0,\\ldots,0).$$ In our case, $\\mu_{f''}=2$ since the Hessian of $f$, $\\nabla^2 f$ is a $10 \\times 10$ diagonal matrix with entries of 2 along the diagonal, and we are using the standard Euclidean norm. Note that the Frobenius norm equals $\\sqrt{40}$.\n",
    "\n",
    "Chen and More show that $h^*$ yields the best estimates to the partial derivates in an $\\mathcal{L}_1$ sense.\n",
    "\n",
    "With a pairs of estimates $||\\nabla f(x_k)||, ||\\nabla f(x_{k+1})||$ we form the ratios $$\\frac{||\\nabla f(x_k)-\\nabla f(x_{k+1})||-2\\epsilon^*}{x_k-x_{k+1}}$$ and take the maximum such ratio as a numerical estimate to $L_1$."
   ]
  },
  {
   "cell_type": "code",
   "execution_count": 123,
   "metadata": {},
   "outputs": [],
   "source": [
    "M=6\n",
    "\n",
    "x_vals=np.zeros((N,1)) # matrix to store the vectors we randomly make\n",
    "\n",
    "grads=np.zeros((N,1)) # matrix to store the gradients we approximate\n",
    "\n",
    "ratios=np.zeros((M,1)) # vector storing the ratios we are intersted in!\n",
    "\n",
    "h_star=(8**0.25)*np.sqrt(std/mu_f2) # the prescribed step size by Chen/More\n",
    "\n",
    "for j in range(0,M):\n",
    "\n",
    "    # Take two draws inside a large hypercube and store them\n",
    "    x=100*(2*np.random.rand(N,1) - np.ones((N,1)))\n",
    "    y=100*(2*np.random.rand(N,1) - np.ones((N,1)))\n",
    "    x_vals=np.hstack((x_vals,x))\n",
    "    x_vals=np.hstack((x_vals,y))\n",
    "\n",
    "    # For loop to make finite diff approx's \n",
    "    # to each partial and form approx gradient at x\n",
    "    approx_grad_x=np.zeros((N,1))\n",
    "    for i in range(0,N):\n",
    "        e = np.zeros((N,1))\n",
    "        e[i] = 1.0\n",
    "        approx_grad_x[i] = (F(x + h_star*e) - F(x))/h_star\n",
    "    \n",
    "    # Store the gradient at x\n",
    "    grads=np.hstack((grads,approx_grad_x))\n",
    "    \n",
    "    # For loop to make finite diff approx's \n",
    "    # to each partial and form approx gradient at y\n",
    "    approx_grad_y=np.zeros((N,1))\n",
    "    for p in range(0,N):\n",
    "        e = np.zeros((N,1))\n",
    "        e[p] = 1.0\n",
    "        approx_grad_y[p] = (F(y + h_star*e) - F(y))/h_star\n",
    "    \n",
    "    # Store the gradient at y\n",
    "    grads=np.hstack((grads,approx_grad_y))\n",
    "    \n",
    "    # Form ratios to estimate L_1\n",
    "    # Note we subtract by 2*eps_star, which was mentioned in Callies paper\n",
    "    diff_1=np.linalg.norm(approx_grad_x - approx_grad_y) - 2*eps_star\n",
    "    diff_2=np.linalg.norm(x-y)\n",
    "    r=diff_1/diff_2\n",
    "    \n",
    "    ratios[j]=r\n",
    "    \n",
    "x_vals=x_vals[:,1:]\n",
    "grads=grads[:,1:]"
   ]
  },
  {
   "cell_type": "code",
   "execution_count": 124,
   "metadata": {},
   "outputs": [
    {
     "name": "stdout",
     "output_type": "stream",
     "text": [
      "the ratios are [[1.9995732  1.99944471 1.99859251 1.99981603 2.00025085 2.00032343]] and our estimate to L_1 is 2.0003234304143405\n"
     ]
    }
   ],
   "source": [
    "L_1_est=(np.max(ratios))\n",
    "\n",
    "print('the ratios are', np.transpose(ratios),'and our estimate to L_1 is', L_1_est)"
   ]
  },
  {
   "cell_type": "markdown",
   "metadata": {},
   "source": [
    "#### We have now obtained estimates to both $\\sigma_\\epsilon^2$ and $L_1$."
   ]
  },
  {
   "cell_type": "markdown",
   "metadata": {},
   "source": [
    "### STEP 3: Perform STARs (with no bells and whistles)\n",
    "\n",
    "Chen and Wild define the optimal hyperparameters $$\\mu^* := \\left(\\frac{8\\sigma_\\epsilon^2 N}{L_1^2(N+6)^3}\\right)^{1/4} \\quad \\quad h:= \\frac{1}{4L_1(N+4),}$$ where $\\mu^*$ as a smoothing factor and $h$ is a step size. We will use our estimates to $\\sigma_\\epsilon^2$ and $L_1$ to compute the hyperparameters needed for STARs."
   ]
  },
  {
   "cell_type": "code",
   "execution_count": 125,
   "metadata": {},
   "outputs": [
    {
     "name": "stdout",
     "output_type": "stream",
     "text": [
      "0.03545269349519118 0.0023144405345842814\n"
     ]
    }
   ],
   "source": [
    "mu_star=((8*est_var*N)/(L_1_est**2*(N+6)**3))**0.25\n",
    "h=1/(4*L_1_est*(N+4))\n",
    "\n",
    "print(mu_star,h)"
   ]
  },
  {
   "cell_type": "code",
   "execution_count": 126,
   "metadata": {},
   "outputs": [],
   "source": [
    "def STARS(x_init,F, mu_star,h):\n",
    "    \n",
    "    # x_init: initial x value\n",
    "    # F: function we wish to minimize\n",
    "    # mu_star: smoothing parameter\n",
    "    # h: step length\n",
    "    \n",
    "    # Evaluate noisy F(x_init)\n",
    "    f = F(x_init)\n",
    "    \n",
    "    # Draw a random vector of same size as x_init\n",
    "    u = np.random.normal(0,1,(N,1))\n",
    "    \n",
    "    # Form vector y, which is a random walk away from x_init\n",
    "    y = x_init + (mu_star)*u\n",
    "    \n",
    "    # Evaluate noisy F(y)\n",
    "    g = F(y)\n",
    "    \n",
    "    # Form finite-difference \"gradient oracle\"\n",
    "    s = ((g - f)/mu_star)*u \n",
    "    \n",
    "    # Take descent step in direction of -s smooth by h to get next iterate, x_1\n",
    "    x = x_init - (h)*s\n",
    "   \n",
    "    # Evaluate noisy F(x_1)\n",
    "    f=F(x)\n",
    "    \n",
    "        \n",
    "    return [x, f, y, g]"
   ]
  },
  {
   "cell_type": "code",
   "execution_count": 127,
   "metadata": {},
   "outputs": [
    {
     "name": "stdout",
     "output_type": "stream",
     "text": [
      "(50, 1) 173552.4769955103\n"
     ]
    }
   ],
   "source": [
    "# Draw a single x_init to seed all experiments with same value below\n",
    "\n",
    "x_init=100*(2*np.random.rand(N,1)-np.ones((N,1)))\n",
    "\n",
    "print(np.shape(x_init),F(x_init))"
   ]
  },
  {
   "cell_type": "code",
   "execution_count": 128,
   "metadata": {},
   "outputs": [
    {
     "name": "stdout",
     "output_type": "stream",
     "text": [
      "0.5775704523266336 0.3520123987610504\n"
     ]
    }
   ],
   "source": [
    "# Run pure STARs\n",
    "\n",
    "x=x_init\n",
    "f=F(x)\n",
    "\n",
    "x_hist=np.array(x)\n",
    "f_hist=np.array(f)\n",
    "\n",
    "maxit=5000\n",
    "\n",
    "for i in range(1, maxit):\n",
    "    s=STARS(x,F,mu_star,h)\n",
    "    x=s[0]\n",
    "    f=s[1]\n",
    "    x_hist=np.hstack((x_hist,x))\n",
    "    f_hist=np.hstack((f_hist,f))\n",
    "    \n",
    "print(np.linalg.norm(x),f)"
   ]
  },
  {
   "cell_type": "code",
   "execution_count": 129,
   "metadata": {},
   "outputs": [
    {
     "data": {
      "image/png": "[encoded data removed]",
      "text/plain": [
       "<Figure size 432x288 with 1 Axes>"
      ]
     },
     "metadata": {},
     "output_type": "display_data"
    }
   ],
   "source": [
    "plt.loglog(f_hist)\n",
    "plt.show()"
   ]
  }
 ],
 "metadata": {
  "kernelspec": {
   "display_name": "Python 3",
   "language": "python",
   "name": "python3"
  },
  "language_info": {
   "codemirror_mode": {
    "name": "ipython",
    "version": 3
   },
   "file_extension": ".py",
   "mimetype": "text/x-python",
   "name": "python",
   "nbconvert_exporter": "python",
   "pygments_lexer": "ipython3",
   "version": "3.6.5"
  }
 },
 "nbformat": 4,
 "nbformat_minor": 2
}
