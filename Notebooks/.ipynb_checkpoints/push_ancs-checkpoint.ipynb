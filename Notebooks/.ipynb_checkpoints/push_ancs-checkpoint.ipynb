{
 "cells": [
  {
   "cell_type": "code",
   "execution_count": 5,
   "metadata": {},
   "outputs": [],
   "source": [
    "import numpy as np\n",
    "import scipy as scipy\n",
    "from scipy.optimize import minimize\n",
    "import timeit"
   ]
  },
  {
   "cell_type": "markdown",
   "metadata": {},
   "source": [
    "# Try Solving Many Ancestries problem, multiple SNPs\n",
    "\n",
    "In this notebook we attempt to solve the following constrained, quadratic optimization problem:\n",
    "\n",
    "$$\\min_{\\pi \\in \\mathbb{R}^k} f(\\pi)=\\sum_{i=1}^{N}\\left(\\sum_{j=1}^k a_{j,i}\\pi_j-\\tilde{a}_i\\right)^2$$\n",
    "\n",
    "$$\\text{subject to:} \\sum_{j=1}^k \\pi_k=1 \\quad \\pi_j \\geq 0, j=1,\\ldots,k,$$\n",
    "\n",
    "where $a_{j,i} \\in \\mathbb{R}$, $j=1,\\ldots, k$; $i=1,\\ldots N$ and $\\tilde{a}_i \\in \\mathbb{R}$, $i =1, \\ldots, N$ are quantities obtained from a genetics simulation. The $a_{j,i}$'s correspond to the observed allele frequency in ancestry $j$ at SNP $i$. There are $k$ ancestries and $N$ SNPs."
   ]
  },
  {
   "cell_type": "code",
   "execution_count": 197,
   "metadata": {},
   "outputs": [
    {
     "name": "stdout",
     "output_type": "stream",
     "text": [
      "(70000, 10) (70000, 1)\n"
     ]
    }
   ],
   "source": [
    "N=70000 # number of SNPs\n",
    "k=10 # number of ancestries\n",
    "\n",
    "A=np.array(np.random.uniform(low=0, high=1, size=(N,1))) # initialize an array for experimental draws\n",
    "\n",
    "for i in range(1,k):\n",
    "    A=np.hstack((A,np.random.uniform(low=0, high=1, size=(N,1))))\n",
    "\n",
    "# Time for some abbreivations!\n",
    "a_1=A[:,0:1]\n",
    "a_2=A[:,1:2]\n",
    "a_3=A[:,2:3]\n",
    "a_4=A[:,3:4]\n",
    "a_5=A[:,4:5]\n",
    "a_6=A[:,5:6]\n",
    "a_7=A[:,6:7]\n",
    "a_8=A[:,7:8]\n",
    "a_9=A[:,8:9]\n",
    "a_10=A[:,9:10]\n",
    "\n",
    "# And form an answer, taf = total allele frequency\n",
    "\n",
    "taf=0.1*a_1+0.15*a_2+0.2*a_3+0.25*a_4+0.2*a_5+0.05*a_6+0.02*a_7 +0.01*a_8 +0.005*a_9 +0.005*a_10\n",
    "\n",
    "print(np.shape(A),np.shape(taf))"
   ]
  },
  {
   "cell_type": "code",
   "execution_count": 198,
   "metadata": {},
   "outputs": [],
   "source": [
    "# This is the objective function!\n",
    "\n",
    "def function(x):\n",
    "    return np.sum((x[0]*a_1+x[1]*a_2+x[2]*a_3+x[3]*a_4+x[4]*a_5\n",
    "                   +x[5]*a_6+x[6]*a_7+x[7]*a_8+x[8]*a_9+x[9]*a_10-taf)**2,axis=0)[0]"
   ]
  },
  {
   "cell_type": "code",
   "execution_count": 199,
   "metadata": {},
   "outputs": [
    {
     "name": "stdout",
     "output_type": "stream",
     "text": [
      "check shape of x_t: (10, 1) [1.]\n",
      "our initial value is [[0.1 0.1 0.1 0.1 0.1 0.1 0.1 0.1 0.1 0.1]]\n",
      "which has function value 464.85034328349195\n"
     ]
    }
   ],
   "source": [
    "# This is a feasible initial point since its components add to 1 and are positive.\n",
    "\n",
    "x_t=(1/k)*np.ones((k,1))\n",
    "print('check shape of x_t:', np.shape(x_t), np.sum(x_t,axis=0))\n",
    "\n",
    "# Make sure function works by computing f(x_t)\n",
    "\n",
    "print('our initial value is', np.transpose(x_t)) # transpose for readability only\n",
    "print('which has function value', function(x_t))"
   ]
  },
  {
   "cell_type": "code",
   "execution_count": 200,
   "metadata": {},
   "outputs": [],
   "source": [
    "# Here is the gradient of the objective function\n",
    "\n",
    "def gradfun(x):\n",
    "    return np.array((np.sum(2*a_1*(x[0]*a_1+x[1]*a_2+x[2]*a_3+x[3]*a_4+x[4]*a_5 +x[5]*a_6+x[6]*a_7+x[7]*a_8+x[8]*a_9+x[9]*a_10-taf),axis=0),\n",
    "                     np.sum(2*a_2*(x[0]*a_1+x[1]*a_2+x[2]*a_3+x[3]*a_4+x[4]*a_5 +x[5]*a_6+x[6]*a_7+x[7]*a_8+x[8]*a_9+x[9]*a_10-taf),axis=0),\n",
    "                     np.sum(2*a_3*(x[0]*a_1+x[1]*a_2+x[2]*a_3+x[3]*a_4+x[4]*a_5 +x[5]*a_6+x[6]*a_7+x[7]*a_8+x[8]*a_9+x[9]*a_10-taf),axis=0),\n",
    "                     np.sum(2*a_4*(x[0]*a_1+x[1]*a_2+x[2]*a_3+x[3]*a_4+x[4]*a_5 +x[5]*a_6+x[6]*a_7+x[7]*a_8+x[8]*a_9+x[9]*a_10-taf),axis=0),\n",
    "                     np.sum(2*a_5*(x[0]*a_1+x[1]*a_2+x[2]*a_3+x[3]*a_4+x[4]*a_5 +x[5]*a_6+x[6]*a_7+x[7]*a_8+x[8]*a_9+x[9]*a_10-taf),axis=0),\n",
    "                     np.sum(2*a_6*(x[0]*a_1+x[1]*a_2+x[2]*a_3+x[3]*a_4+x[4]*a_5 +x[5]*a_6+x[6]*a_7+x[7]*a_8+x[8]*a_9+x[9]*a_10-taf),axis=0),\n",
    "                     np.sum(2*a_7*(x[0]*a_1+x[1]*a_2+x[2]*a_3+x[3]*a_4+x[4]*a_5 +x[5]*a_6+x[6]*a_7+x[7]*a_8+x[8]*a_9+x[9]*a_10-taf),axis=0),\n",
    "                     np.sum(2*a_8*(x[0]*a_1+x[1]*a_2+x[2]*a_3+x[3]*a_4+x[4]*a_5 +x[5]*a_6+x[6]*a_7+x[7]*a_8+x[8]*a_9+x[9]*a_10-taf),axis=0),\n",
    "                     np.sum(2*a_9*(x[0]*a_1+x[1]*a_2+x[2]*a_3+x[3]*a_4+x[4]*a_5 +x[5]*a_6+x[6]*a_7+x[7]*a_8+x[8]*a_9+x[9]*a_10-taf),axis=0),\n",
    "                     np.sum(2*a_10*(x[0]*a_1+x[1]*a_2+x[2]*a_3+x[3]*a_4+x[4]*a_5 +x[5]*a_6+x[6]*a_7+x[7]*a_8+x[8]*a_9+x[9]*a_10-taf),axis=0)))"
   ]
  },
  {
   "cell_type": "code",
   "execution_count": 201,
   "metadata": {},
   "outputs": [
    {
     "name": "stdout",
     "output_type": "stream",
     "text": [
      "[[  307.03790492]\n",
      " [ -263.5835205 ]\n",
      " [ -840.6678123 ]\n",
      " [-1425.11238433]\n",
      " [ -855.28445328]\n",
      " [  886.57821031]\n",
      " [ 1208.79671311]\n",
      " [ 1358.28337183]\n",
      " [ 1415.05106922]\n",
      " [ 1425.8044603 ]] (10, 1)\n"
     ]
    }
   ],
   "source": [
    "s=gradfun(x_t)\n",
    "print(s, np.shape(s))"
   ]
  },
  {
   "cell_type": "markdown",
   "metadata": {},
   "source": [
    "## SLSQP"
   ]
  },
  {
   "cell_type": "code",
   "execution_count": 202,
   "metadata": {},
   "outputs": [],
   "source": [
    "cons = ({'type': 'eq', 'fun': lambda x:  np.sum(x,axis=0) -1},)\n",
    "\n",
    "for i in range(0,k-1):\n",
    "    cons = cons + ({'type': 'ineq', 'fun': lambda x: x[i]},)\n",
    "\n",
    "bnds = ((0, None),)\n",
    "\n",
    "for i in range(0,k-1):\n",
    "    bnds = bnds + ((0, None),)"
   ]
  },
  {
   "cell_type": "code",
   "execution_count": 203,
   "metadata": {},
   "outputs": [
    {
     "name": "stdout",
     "output_type": "stream",
     "text": [
      "     fun: 1.810056003935431\n",
      "     jac: array([362.00001387, 362.01905584, 361.99823059, 362.02335113,\n",
      "       362.01330128, 362.00914959, 362.03136237, 362.01496582,\n",
      "       361.99470427, 362.01138293])\n",
      " message: 'Optimization terminated successfully.'\n",
      "    nfev: 50\n",
      "     nit: 23\n",
      "    njev: 23\n",
      "  status: 0\n",
      " success: True\n",
      "       x: array([0.10106258, 0.15100534, 0.20105102, 0.25081354, 0.20094397,\n",
      "       0.05110119, 0.02104282, 0.01097375, 0.00602187, 0.00598391])\n",
      "Time:  2.3339030428733167\n"
     ]
    }
   ],
   "source": [
    "start = timeit.default_timer()\n",
    "\n",
    "print(scipy.optimize.minimize(function, x_t, method='SLSQP', jac=gradfun, bounds=bnds, constraints=cons))\n",
    "\n",
    "stop = timeit.default_timer()\n",
    "\n",
    "print('Time: ', stop - start)"
   ]
  }
 ],
 "metadata": {
  "kernelspec": {
   "display_name": "Python 3",
   "language": "python",
   "name": "python3"
  },
  "language_info": {
   "codemirror_mode": {
    "name": "ipython",
    "version": 3
   },
   "file_extension": ".py",
   "mimetype": "text/x-python",
   "name": "python",
   "nbconvert_exporter": "python",
   "pygments_lexer": "ipython3",
   "version": "3.6.5"
  }
 },
 "nbformat": 4,
 "nbformat_minor": 2
}
