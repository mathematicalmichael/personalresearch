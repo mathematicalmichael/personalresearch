{
 "cells": [
  {
   "cell_type": "markdown",
   "metadata": {},
   "source": [
    "## MS Example 2: Additive Noise, Surrogate-Based Methods"
   ]
  },
  {
   "cell_type": "code",
   "execution_count": 1,
   "metadata": {},
   "outputs": [],
   "source": [
    "import numpy as np\n",
    "import dfo_v1 as dfo\n",
    "import ECNoise as ECN\n",
    "import active_subspaces as ac\n",
    "import matplotlib.pyplot as plt"
   ]
  },
  {
   "cell_type": "markdown",
   "metadata": {},
   "source": [
    "We let $f: \\mathbf{\\lambda}: \\mathbb{R}^{11} \\to \\mathbb{R}$, where $$f(\\lambda; \\xi)=\\sum_{i=0}^{10} 2^{(-1)^i i}\\lambda_i^2+\\epsilon(\\xi), \\quad \\epsilon(\\xi) \\sim U[-k,k], \\quad k=1 \\times 10^{-2}.$$"
   ]
  },
  {
   "cell_type": "code",
   "execution_count": 2,
   "metadata": {},
   "outputs": [],
   "source": [
    "k=1E-2\n",
    "\n",
    "dim=11\n",
    "\n",
    "weights=np.zeros((1,dim)) # row vec to make IP easy\n",
    "for i in range(dim):\n",
    "    weights[:,i]=2**(((-1)**i)*i)\n",
    "\n",
    "def tfun(x,var=k):\n",
    "    y=np.copy(x)\n",
    "    y=y**2   \n",
    "    return np.dot(weights,y)*(1+k*(2*np.random.rand()-1))"
   ]
  },
  {
   "cell_type": "markdown",
   "metadata": {},
   "source": [
    "## Sample 100 random draws in $\\Lambda$, build a surrogate, minimize"
   ]
  },
  {
   "cell_type": "code",
   "execution_count": 17,
   "metadata": {},
   "outputs": [
    {
     "name": "stdout",
     "output_type": "stream",
     "text": [
      "(11, 100000) [[ 0.47187637]\n",
      " [ 0.86135186]\n",
      " [-0.11568699]\n",
      " [-0.56500056]\n",
      " [ 0.74115647]\n",
      " [-0.61152475]\n",
      " [-0.1563918 ]\n",
      " [-0.70059563]\n",
      " [-0.29492106]\n",
      " [-0.82220272]\n",
      " [ 0.26943567]]\n"
     ]
    }
   ],
   "source": [
    "# Perform draws\n",
    "n_samps=100000\n",
    "\n",
    "X=np.random.rand(dim,n_samps)\n",
    "samps=2*X-1\n",
    "print(samps.shape,samps[:,0:1])"
   ]
  },
  {
   "cell_type": "code",
   "execution_count": 18,
   "metadata": {},
   "outputs": [
    {
     "name": "stdout",
     "output_type": "stream",
     "text": [
      "(100000, 1)\n"
     ]
    }
   ],
   "source": [
    "# Compute the f values\n",
    "\n",
    "f_vals=np.zeros((n_samps,1))\n",
    "\n",
    "for i in range(n_samps):\n",
    "    \n",
    "    f_vals[i] = tfun(samps[:,i:i+1])\n",
    "    \n",
    "print(f_vals.shape)"
   ]
  },
  {
   "cell_type": "code",
   "execution_count": 19,
   "metadata": {},
   "outputs": [
    {
     "name": "stdout",
     "output_type": "stream",
     "text": [
      "n should be an integer. Performing conversion.\n",
      "[[ 2.64586468e-05]\n",
      " [ 1.46177157e-05]\n",
      " [-1.45263618e-05]\n",
      " [-2.94159731e-05]\n",
      " [ 4.29859424e-05]\n",
      " [ 1.57040293e-05]\n",
      " [ 2.41658861e-05]\n",
      " [-2.12758305e-05]\n",
      " [ 5.63262144e-05]\n",
      " [-8.74008964e-06]\n",
      " [ 9.99999996e-01]]\n",
      "\n",
      "[[1.18247282e+03]\n",
      " [2.95570209e+02]\n",
      " [7.39078083e+01]\n",
      " [1.84507328e+01]\n",
      " [4.64314966e+00]\n",
      " [1.08245279e+00]\n",
      " [5.39611769e-01]\n",
      " [1.39555884e-01]\n",
      " [5.14622529e-02]\n",
      " [3.86362893e-02]\n",
      " [2.28264227e-02]]\n"
     ]
    }
   ],
   "source": [
    "ss = ac.subspaces.Subspaces()\n",
    "\n",
    "trainx=np.transpose(samps)\n",
    "\n",
    "# Use Global Quadratic\n",
    "ss.compute(X=trainx, f=f_vals, nboot=0, sstype='QPHD')\n",
    "    \n",
    "RS=ac.utils.response_surfaces.PolynomialApproximation(2)\n",
    "    \n",
    "y1 = trainx.dot(ss.W1)\n",
    "    \n",
    "RS.train(y1, f_vals)\n",
    "\n",
    "print(ss.W1)\n",
    "\n",
    "print()\n",
    "\n",
    "print(np.sqrt(ss.eigenvals))"
   ]
  },
  {
   "cell_type": "code",
   "execution_count": 13,
   "metadata": {},
   "outputs": [
    {
     "name": "stdout",
     "output_type": "stream",
     "text": [
      "[[0.00313092]] [[139.56634772]] 0.9428223491545892\n"
     ]
    }
   ],
   "source": [
    "avdom=ac.domains.BoundedActiveVariableDomain(ss)\n",
    "    \n",
    "ystar, fstar = ac.optimizers.av_minimize(lambda x: RS.predict(x.reshape(1,1))[0], avdom)\n",
    "\n",
    "print(ystar,fstar,RS.Rsqr)"
   ]
  }
 ],
 "metadata": {
  "kernelspec": {
   "display_name": "Python 3",
   "language": "python",
   "name": "python3"
  },
  "language_info": {
   "codemirror_mode": {
    "name": "ipython",
    "version": 3
   },
   "file_extension": ".py",
   "mimetype": "text/x-python",
   "name": "python",
   "nbconvert_exporter": "python",
   "pygments_lexer": "ipython3",
   "version": "3.6.5"
  }
 },
 "nbformat": 4,
 "nbformat_minor": 2
}
