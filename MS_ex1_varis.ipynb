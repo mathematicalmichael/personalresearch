{
 "cells": [
  {
   "cell_type": "markdown",
   "metadata": {},
   "source": [
    "## MS Example 1"
   ]
  },
  {
   "cell_type": "code",
   "execution_count": 82,
   "metadata": {},
   "outputs": [],
   "source": [
    "import numpy as np\n",
    "import dfo as dfo\n",
    "import ECNoise as ECN\n",
    "import active_subspaces as ac\n",
    "import matplotlib.pyplot as plt"
   ]
  },
  {
   "cell_type": "markdown",
   "metadata": {},
   "source": [
    "We choose $\\mathbf{x}^{(0)}=(100,0.1,u,u,\\ldots,u)$, $u \\sim U[-100,100]$."
   ]
  },
  {
   "cell_type": "code",
   "execution_count": 83,
   "metadata": {},
   "outputs": [
    {
     "name": "stdout",
     "output_type": "stream",
     "text": [
      "(10,)\n",
      "[1.00000000e+02 1.00000000e-01 9.29690335e+01 1.48354465e+02\n",
      " 2.65447987e+00 7.83568491e+01 1.11028879e+02 1.32801837e+02\n",
      " 2.42071065e+01 3.70302935e+01]\n"
     ]
    }
   ],
   "source": [
    "dim=10\n",
    "xinit=200*np.random.rand(dim)\n",
    "print(np.shape(xinit))\n",
    "\n",
    "#my nasty initial condition, but all others will plateau\n",
    "xinit[0]=100\n",
    "xinit[1]=.1\n",
    "print(np.transpose(xinit))"
   ]
  },
  {
   "cell_type": "markdown",
   "metadata": {},
   "source": [
    "We let $t: \\mathbf{x}: \\mathbb{R}^{10} \\to \\mathbb{R}$, where $t(\\mathbf{x})=x_1^2+x_2^2+x_3^2+ k\\epsilon$, where $\\epsilon \\sim N(0,1)$ so that $k\\epsilon \\sim N(0,k^2)$ and $L_1=2$. Note if we let $x[0]=2*x[0]$ as is commented out below, we would get $L_1=8.$"
   ]
  },
  {
   "cell_type": "code",
   "execution_count": 84,
   "metadata": {},
   "outputs": [
    {
     "name": "stdout",
     "output_type": "stream",
     "text": [
      "[1.00000000e+02 1.00000000e-01 9.29690335e+01 1.48354465e+02\n",
      " 2.65447987e+00 7.83568491e+01 1.11028879e+02 1.32801837e+02\n",
      " 2.42071065e+01 3.70302935e+01]\n",
      "[48643.25939316]\n",
      "[1.00000000e+02 1.00000000e-01 9.29690335e+01 1.48354465e+02\n",
      " 2.65447987e+00 7.83568491e+01 1.11028879e+02 1.32801837e+02\n",
      " 2.42071065e+01 3.70302935e+01]\n"
     ]
    }
   ],
   "source": [
    "k=1E-4\n",
    "def tfun(x,var=k):\n",
    "    y=np.copy(x)\n",
    "    y[0]*=2\n",
    "    return np.dot(y[0:3],y[0:3])+(k**.5)*np.random.randn(1)\n",
    "\n",
    "# Print check\n",
    "print(xinit)\n",
    "print(tfun(xinit))\n",
    "print(xinit)"
   ]
  },
  {
   "cell_type": "code",
   "execution_count": 85,
   "metadata": {},
   "outputs": [
    {
     "name": "stdout",
     "output_type": "stream",
     "text": [
      "48643.23611865499\n",
      "48653.09773605336\n",
      "48662.98106356122\n",
      "48672.83867295073\n",
      "48682.71919517399\n",
      "48692.581742825634\n",
      "48702.444698117404\n",
      "48712.31851234058\n",
      "48722.16674400251\n",
      "48732.0607259802\n",
      "[array([5.96981111e-05]), array([48643.23611865, 48653.09773605, 48662.98106356, 48672.83867295,\n",
      "       48682.71919517, 48692.58174283, 48702.44469812, 48712.31851234,\n",
      "       48722.166744  , 48732.06072598])] 5.969811113323144e-05\n",
      "[48643.23611865 48653.09773605 48662.98106356 48672.83867295\n",
      " 48682.71919517 48692.58174283 48702.44469812 48712.31851234\n",
      " 48722.166744   48732.06072598]\n"
     ]
    }
   ],
   "source": [
    "M=10 # number of ECNoise f evals\n",
    "\n",
    "noise_array=ECN.ECNoise(tfun,xinit,M)\n",
    "mynoise=noise_array[0][0]\n",
    "gen_f_vals=noise_array[1]\n",
    "print(noise_array, mynoise)\n",
    "print(gen_f_vals)"
   ]
  },
  {
   "cell_type": "code",
   "execution_count": 86,
   "metadata": {},
   "outputs": [
    {
     "name": "stdout",
     "output_type": "stream",
     "text": [
      "estimated noise var is 5.969811113323144e-05 true var is 0.0001 with relative error -0.40301888866768565\n"
     ]
    }
   ],
   "source": [
    "print('estimated noise var is', mynoise, 'true var is', k, 'with relative error', (mynoise-k)/k)"
   ]
  },
  {
   "cell_type": "code",
   "execution_count": 87,
   "metadata": {},
   "outputs": [
    {
     "name": "stdout",
     "output_type": "stream",
     "text": [
      "estimated upper bound on ||f|| is 2.1710109496780206 estimated value of L_1 from FD is 2.1710109496780206\n"
     ]
    }
   ],
   "source": [
    "h=1/M\n",
    "fm=gen_f_vals[0]\n",
    "f0=gen_f_vals[1]\n",
    "fp=gen_f_vals[2]\n",
    "L_1_hat=abs(fp-2*f0+fm)*(1/h)**2\n",
    "\n",
    "d1=abs(fp-f0)*(1/h)\n",
    "d2=abs(fm-f0)*(1/h)\n",
    "L_1_hat_1=abs(d1-d2)*(1/h)\n",
    "\n",
    "\n",
    "print('estimated upper bound on ||f''|| is', L_1_hat, 'estimated value of L_1 from FD is', L_1_hat_1)"
   ]
  },
  {
   "cell_type": "code",
   "execution_count": 88,
   "metadata": {
    "collapsed": true
   },
   "outputs": [],
   "source": [
    "mu_star=dfo.get_mu_star(mynoise,L_1_hat,dim)\n",
    "h=dfo.get_h(L_1_hat,dim)"
   ]
  },
  {
   "cell_type": "code",
   "execution_count": 94,
   "metadata": {},
   "outputs": [],
   "source": [
    "x=np.copy(xinit)\n",
    "maxit=700\n",
    "xhist=np.array(x)\n",
    "fhist=np.array(tfun(x))\n",
    "yhist=xhist\n",
    "ghist=fhist\n",
    "L1Bhist=np.array(L_1_hat)\n",
    "for i in range(maxit):\n",
    "    #[x,f,y,fy,p,q,L1B]=dfo.STARS(x,tfun,mu_star,h)\n",
    "    [x,f,y,fy]=dfo.STARS(x,tfun,mu_star,h)\n",
    "    xhist=np.vstack((xhist,x))\n",
    "    fhist=np.hstack((fhist,f))\n",
    "    yhist=np.vstack((yhist,y))\n",
    "    ghist=np.hstack((ghist,fy))\n",
    "    #L1Bhist=np.vstack((L1Bhist,L1B))"
   ]
  },
  {
   "cell_type": "code",
   "execution_count": 95,
   "metadata": {},
   "outputs": [
    {
     "name": "stdout",
     "output_type": "stream",
     "text": [
      "our algorithm terminates with x value [ 3.85721585e-02 -4.84981062e-02  5.57820307e-02  1.48196326e+02\n",
      "  7.07725401e+01  9.63219682e+01  9.64714510e+01  1.09199422e+02\n",
      " -2.95980496e+00  5.25736186e+01] which has f value [0.0161563]\n"
     ]
    }
   ],
   "source": [
    "print('our algorithm terminates with x value',np.transpose(x), 'which has f value',f)"
   ]
  },
  {
   "cell_type": "code",
   "execution_count": 96,
   "metadata": {},
   "outputs": [
    {
     "data": {
      "text/plain": [
       "<matplotlib.figure.Figure at 0x120733668>"
      ]
     },
     "metadata": {},
     "output_type": "display_data"
    },
    {
     "data": {
      "image/png": "[encoded data removed]",
      "text/plain": [
       "<matplotlib.figure.Figure at 0x11e2c1358>"
      ]
     },
     "metadata": {},
     "output_type": "display_data"
    }
   ],
   "source": [
    "plt.figure(figsize=(10,6))\n",
    "plt.semilogy(fhist,label='STARS, full vars')\n",
    "plt.legend()\n",
    "plt.show()"
   ]
  },
  {
   "cell_type": "code",
   "execution_count": 97,
   "metadata": {},
   "outputs": [
    {
     "name": "stdout",
     "output_type": "stream",
     "text": [
      "(701, 10) (701,) (701, 10) (701,)\n"
     ]
    }
   ],
   "source": [
    "print(np.shape(xhist),np.shape(fhist),np.shape(yhist),np.shape(ghist))"
   ]
  },
  {
   "cell_type": "code",
   "execution_count": 93,
   "metadata": {},
   "outputs": [
    {
     "ename": "IndexError",
     "evalue": "too many indices for array",
     "output_type": "error",
     "traceback": [
      "\u001b[0;31m---------------------------------------------------------------------------\u001b[0m",
      "\u001b[0;31mIndexError\u001b[0m                                Traceback (most recent call last)",
      "\u001b[0;32m<ipython-input-93-5c8c4a9faa5d>\u001b[0m in \u001b[0;36m<module>\u001b[0;34m()\u001b[0m\n\u001b[1;32m      6\u001b[0m \u001b[0;32mfor\u001b[0m \u001b[0mtr_stop\u001b[0m \u001b[0;32min\u001b[0m \u001b[0mrange\u001b[0m\u001b[0;34m(\u001b[0m\u001b[0;36m35\u001b[0m\u001b[0;34m,\u001b[0m\u001b[0;36m300\u001b[0m\u001b[0;34m,\u001b[0m\u001b[0;36m20\u001b[0m\u001b[0;34m)\u001b[0m\u001b[0;34m:\u001b[0m\u001b[0;34m\u001b[0m\u001b[0;34m\u001b[0m\u001b[0m\n\u001b[1;32m      7\u001b[0m \u001b[0;34m\u001b[0m\u001b[0m\n\u001b[0;32m----> 8\u001b[0;31m     \u001b[0mtrainx\u001b[0m\u001b[0;34m=\u001b[0m\u001b[0mnp\u001b[0m\u001b[0;34m.\u001b[0m\u001b[0mhstack\u001b[0m\u001b[0;34m(\u001b[0m\u001b[0;34m(\u001b[0m\u001b[0mxhist\u001b[0m\u001b[0;34m[\u001b[0m\u001b[0;34m:\u001b[0m\u001b[0;34m,\u001b[0m\u001b[0;36m0\u001b[0m\u001b[0;34m:\u001b[0m\u001b[0mtr_stop\u001b[0m\u001b[0;34m]\u001b[0m\u001b[0;34m,\u001b[0m\u001b[0myhist\u001b[0m\u001b[0;34m[\u001b[0m\u001b[0;34m:\u001b[0m\u001b[0;34m,\u001b[0m\u001b[0;36m0\u001b[0m\u001b[0;34m:\u001b[0m\u001b[0mtr_stop\u001b[0m\u001b[0;34m]\u001b[0m\u001b[0;34m)\u001b[0m\u001b[0;34m)\u001b[0m\u001b[0;34m\u001b[0m\u001b[0;34m\u001b[0m\u001b[0m\n\u001b[0m\u001b[1;32m      9\u001b[0m     \u001b[0mtrainf\u001b[0m\u001b[0;34m=\u001b[0m\u001b[0mnp\u001b[0m\u001b[0;34m.\u001b[0m\u001b[0mvstack\u001b[0m\u001b[0;34m(\u001b[0m\u001b[0;34m(\u001b[0m\u001b[0mfhist\u001b[0m\u001b[0;34m[\u001b[0m\u001b[0;36m0\u001b[0m\u001b[0;34m:\u001b[0m\u001b[0mtr_stop\u001b[0m\u001b[0;34m]\u001b[0m\u001b[0;34m,\u001b[0m\u001b[0mghist\u001b[0m\u001b[0;34m[\u001b[0m\u001b[0;36m0\u001b[0m\u001b[0;34m:\u001b[0m\u001b[0mtr_stop\u001b[0m\u001b[0;34m]\u001b[0m\u001b[0;34m)\u001b[0m\u001b[0;34m)\u001b[0m\u001b[0;34m\u001b[0m\u001b[0;34m\u001b[0m\u001b[0m\n\u001b[1;32m     10\u001b[0m     \u001b[0mtrainx\u001b[0m\u001b[0;34m=\u001b[0m\u001b[0mnp\u001b[0m\u001b[0;34m.\u001b[0m\u001b[0mtranspose\u001b[0m\u001b[0;34m(\u001b[0m\u001b[0mtrainx\u001b[0m\u001b[0;34m)\u001b[0m\u001b[0;34m\u001b[0m\u001b[0;34m\u001b[0m\u001b[0m\n",
      "\u001b[0;31mIndexError\u001b[0m: too many indices for array"
     ]
    }
   ],
   "source": [
    "plt.figure(figsize=(15,10))\n",
    "ss = ac.subspaces.Subspaces()\n",
    "mu_star=dfo.get_mu_star(mynoise,L_1_hat,3)\n",
    "h=dfo.get_h(L_1_hat,3)\n",
    "\n",
    "for tr_stop in range(35,300,20):\n",
    "\n",
    "    trainx=np.hstack((xhist[0:tr_stop],yhist[0:tr_stop]))\n",
    "    trainf=np.vstack((fhist[0:tr_stop],ghist[0:tr_stop]))\n",
    "    trainx=np.transpose(trainx)\n",
    "\n",
    "\n",
    "    # Use Local Linears\n",
    "    #df = ac.gradients.local_linear_gradients(x_hist, f_hist) #Estimated gradients using local linear models\n",
    "    #ss.compute(df=df, nboot=0)\n",
    "    \n",
    "    # Use Global Quadratic\n",
    "    ss.compute(X=trainx, f=trainf, nboot=0, sstype='QPHD')\n",
    "\n",
    "    sub=ss.eigenvecs[:,0:3]\n",
    "    #sub=ss.eigenvecs\n",
    " \n",
    "    x4=np.transpose([xhist[:,tr_stop-1]])\n",
    "    xhist4=np.array(x4)\n",
    "    fhist4=np.array(tfun(x4))\n",
    "\n",
    "    active=sub\n",
    "\n",
    "    for i in range(0,300-tr_stop):\n",
    "        [x4,f,temp,temp2,p,q,L1B]=dfo.STARS(x4,tfun,mu_star,h,active=active)\n",
    "        xhist4=np.hstack((xhist4,x4))\n",
    "        fhist4=np.vstack((fhist4,f))\n",
    "    plt.semilogy(range(tr_stop,301),fhist4,label='train'+str(tr_stop))\n",
    "\n",
    "\n",
    "plt.semilogy(fhist, label='STARS full vars')\n",
    "plt.legend()\n",
    "plt.show()"
   ]
  },
  {
   "cell_type": "code",
   "execution_count": null,
   "metadata": {
    "collapsed": true
   },
   "outputs": [],
   "source": [
    "mu_star=dfo.get_mu_star(1E-4,2,3)\n",
    "h=dfo.get_h(2,3)\n",
    "x3=np.copy(xinit)\n",
    "xhist3=np.array(x3)\n",
    "fhist3=np.array(tfun(x3))\n",
    "active=np.eye(dim)\n",
    "active=np.transpose(active[0:4,:])\n",
    "for i in range(180):\n",
    "    [x3,f,temp1,temp2, p ,q,L1B]=dfo.STARS(x3,tfun,mu_star,h,active=active)\n",
    "    xhist3=np.hstack((xhist3,x3))\n",
    "    fhist3=np.vstack((fhist3,f))"
   ]
  },
  {
   "cell_type": "code",
   "execution_count": null,
   "metadata": {},
   "outputs": [],
   "source": [
    "plt.figure(figsize=(15,10))\n",
    "\n",
    "plt.semilogy(fhist, label='STARS full vars')\n",
    "plt.semilogy(fhist3, label='STARS true active vars with true hyperparams')\n",
    "plt.legend()\n",
    "plt.show()"
   ]
  }
 ],
 "metadata": {
  "kernelspec": {
   "display_name": "Python [default]",
   "language": "python",
   "name": "python3"
  },
  "language_info": {
   "codemirror_mode": {
    "name": "ipython",
    "version": 3
   },
   "file_extension": ".py",
   "mimetype": "text/x-python",
   "name": "python",
   "nbconvert_exporter": "python",
   "pygments_lexer": "ipython3",
   "version": "3.6.8"
  }
 },
 "nbformat": 4,
 "nbformat_minor": 2
}
